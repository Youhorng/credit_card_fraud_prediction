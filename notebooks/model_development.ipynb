{
 "cells": [
  {
   "cell_type": "markdown",
   "metadata": {},
   "source": [
    "### **Model Development**"
   ]
  },
  {
   "cell_type": "markdown",
   "metadata": {},
   "source": [
    "---"
   ]
  },
  {
   "cell_type": "markdown",
   "metadata": {},
   "source": [
    "### **Project Setup**"
   ]
  },
  {
   "cell_type": "code",
   "execution_count": 77,
   "metadata": {},
   "outputs": [],
   "source": [
    "# Import libraries \n",
    "import pandas as pd\n",
    "import numpy as np\n",
    "import matplotlib.pyplot as plt\n",
    "import seaborn as sns\n",
    "from sklearn.preprocessing import OneHotEncoder\n",
    "from category_encoders import TargetEncoder\n",
    "from sklearn.compose import ColumnTransformer\n",
    "\n",
    "# Training and Evaluations\n",
    "from sklearn.model_selection import train_test_split\n",
    "from sklearn.metrics import classification_report, confusion_matrix, precision_recall_curve\n",
    "from sklearn.metrics import accuracy_score, recall_score, precision_score, f1_score, make_scorer\n",
    "\n",
    "# Hyper-parameter Tuning and Cross Validation\n",
    "from sklearn.model_selection import GridSearchCV\n",
    "from sklearn.model_selection import cross_val_score, cross_validate, StratifiedKFold\n",
    "from sklearn.pipeline import Pipeline\n",
    "from sklearn.feature_selection import SelectFromModel\n",
    "\n",
    "# Handling Imbalanced Data\n",
    "from imblearn.over_sampling import SMOTE, RandomOverSampler\n",
    "from imblearn.under_sampling import RandomUnderSampler\n",
    "from imblearn.pipeline import Pipeline, make_pipeline \n",
    "\n",
    "# Import machine learning models\n",
    "from sklearn.tree import DecisionTreeClassifier\n",
    "from sklearn.ensemble import RandomForestClassifier\n",
    "from sklearn.ensemble import AdaBoostClassifier\n",
    "from xgboost import XGBClassifier"
   ]
  },
  {
   "cell_type": "code",
   "execution_count": 8,
   "metadata": {},
   "outputs": [
    {
     "data": {
      "application/vnd.microsoft.datawrangler.viewer.v0+json": {
       "columns": [
        {
         "name": "index",
         "rawType": "int64",
         "type": "integer"
        },
        {
         "name": "transaction_time",
         "rawType": "object",
         "type": "string"
        },
        {
         "name": "credit_card_number",
         "rawType": "int64",
         "type": "integer"
        },
        {
         "name": "merchant",
         "rawType": "object",
         "type": "string"
        },
        {
         "name": "category",
         "rawType": "object",
         "type": "string"
        },
        {
         "name": "transaction_amount",
         "rawType": "float64",
         "type": "float"
        },
        {
         "name": "gender",
         "rawType": "object",
         "type": "string"
        },
        {
         "name": "street",
         "rawType": "object",
         "type": "string"
        },
        {
         "name": "city",
         "rawType": "object",
         "type": "string"
        },
        {
         "name": "state",
         "rawType": "object",
         "type": "string"
        },
        {
         "name": "zip",
         "rawType": "int64",
         "type": "integer"
        },
        {
         "name": "city_population",
         "rawType": "int64",
         "type": "integer"
        },
        {
         "name": "job",
         "rawType": "object",
         "type": "string"
        },
        {
         "name": "transaction_number",
         "rawType": "object",
         "type": "string"
        },
        {
         "name": "is_fraud",
         "rawType": "int64",
         "type": "integer"
        },
        {
         "name": "full_name",
         "rawType": "object",
         "type": "string"
        },
        {
         "name": "age",
         "rawType": "int64",
         "type": "integer"
        },
        {
         "name": "transaction_location",
         "rawType": "object",
         "type": "string"
        },
        {
         "name": "merchant_location",
         "rawType": "object",
         "type": "string"
        },
        {
         "name": "transaction_hour",
         "rawType": "int64",
         "type": "integer"
        },
        {
         "name": "distance_km",
         "rawType": "float64",
         "type": "float"
        },
        {
         "name": "is_nighttime",
         "rawType": "int64",
         "type": "integer"
        }
       ],
       "ref": "62a619ed-9695-472f-9702-c401bf886529",
       "rows": [
        [
         "0",
         "2019-01-01 00:00:18",
         "2703186189652095",
         "Rippin, Kub and Mann",
         "misc_net",
         "4.97",
         "F",
         "561 Perry Cove",
         "Moravian Falls",
         "NC",
         "28654",
         "3495",
         "Psychologist, counselling",
         "0b242abb623afc578575680df30655b9",
         "0",
         "Jennifer Banks",
         "31",
         "-81.1781, 36.0788",
         "-82.048315, 36.011293",
         "0",
         "78.59756848823127",
         "1"
        ],
        [
         "1",
         "2019-01-01 00:00:44",
         "630423337322",
         "Heller, Gutmann and Zieme",
         "grocery_pos",
         "107.23",
         "F",
         "43039 Riley Greens Suite 393",
         "Orient",
         "WA",
         "99160",
         "149",
         "Special educational needs teacher",
         "1f76529f8574734946361c461b024d99",
         "0",
         "Stephanie Gill",
         "41",
         "-118.2105, 48.8878",
         "-118.186462, 49.159046999999994",
         "0",
         "30.21217571921031",
         "1"
        ],
        [
         "2",
         "2019-01-01 00:00:51",
         "38859492057661",
         "Lind-Buckridge",
         "entertainment",
         "220.11",
         "M",
         "594 White Dale Suite 530",
         "Malad City",
         "ID",
         "83252",
         "4154",
         "Nature conservation officer",
         "a1a22d70485983eac12b5b88dad1cf95",
         "0",
         "Edward Sanchez",
         "57",
         "-112.262, 42.1808",
         "-112.154481, 43.150704",
         "0",
         "108.20608258720075",
         "1"
        ],
        [
         "3",
         "2019-01-01 00:01:16",
         "3534093764340240",
         "Kutch, Hermiston and Farrell",
         "gas_transport",
         "45.0",
         "M",
         "9443 Cynthia Court Apt. 038",
         "Boulder",
         "MT",
         "59632",
         "1939",
         "Patent attorney",
         "6b849c168bdad6f867558c3793159a81",
         "0",
         "Jeremy White",
         "52",
         "-112.1138, 46.2306",
         "-112.561071, 47.034331",
         "0",
         "95.67323113819798",
         "1"
        ],
        [
         "4",
         "2019-01-01 00:03:06",
         "375534208663984",
         "Keeling-Crist",
         "misc_pos",
         "41.96",
         "M",
         "408 Bradley Rest",
         "Doe Hill",
         "VA",
         "24433",
         "99",
         "Dance movement psychotherapist",
         "a41d7549acf90789359a9aa5346dcb46",
         "0",
         "Tyler Garcia",
         "33",
         "-79.4629, 38.4207",
         "-78.632459, 38.674999",
         "0",
         "77.55674362581732",
         "1"
        ]
       ],
       "shape": {
        "columns": 21,
        "rows": 5
       }
      },
      "text/html": [
       "<div>\n",
       "<style scoped>\n",
       "    .dataframe tbody tr th:only-of-type {\n",
       "        vertical-align: middle;\n",
       "    }\n",
       "\n",
       "    .dataframe tbody tr th {\n",
       "        vertical-align: top;\n",
       "    }\n",
       "\n",
       "    .dataframe thead th {\n",
       "        text-align: right;\n",
       "    }\n",
       "</style>\n",
       "<table border=\"1\" class=\"dataframe\">\n",
       "  <thead>\n",
       "    <tr style=\"text-align: right;\">\n",
       "      <th></th>\n",
       "      <th>transaction_time</th>\n",
       "      <th>credit_card_number</th>\n",
       "      <th>merchant</th>\n",
       "      <th>category</th>\n",
       "      <th>transaction_amount</th>\n",
       "      <th>gender</th>\n",
       "      <th>street</th>\n",
       "      <th>city</th>\n",
       "      <th>state</th>\n",
       "      <th>zip</th>\n",
       "      <th>...</th>\n",
       "      <th>job</th>\n",
       "      <th>transaction_number</th>\n",
       "      <th>is_fraud</th>\n",
       "      <th>full_name</th>\n",
       "      <th>age</th>\n",
       "      <th>transaction_location</th>\n",
       "      <th>merchant_location</th>\n",
       "      <th>transaction_hour</th>\n",
       "      <th>distance_km</th>\n",
       "      <th>is_nighttime</th>\n",
       "    </tr>\n",
       "  </thead>\n",
       "  <tbody>\n",
       "    <tr>\n",
       "      <th>0</th>\n",
       "      <td>2019-01-01 00:00:18</td>\n",
       "      <td>2703186189652095</td>\n",
       "      <td>Rippin, Kub and Mann</td>\n",
       "      <td>misc_net</td>\n",
       "      <td>4.97</td>\n",
       "      <td>F</td>\n",
       "      <td>561 Perry Cove</td>\n",
       "      <td>Moravian Falls</td>\n",
       "      <td>NC</td>\n",
       "      <td>28654</td>\n",
       "      <td>...</td>\n",
       "      <td>Psychologist, counselling</td>\n",
       "      <td>0b242abb623afc578575680df30655b9</td>\n",
       "      <td>0</td>\n",
       "      <td>Jennifer Banks</td>\n",
       "      <td>31</td>\n",
       "      <td>-81.1781, 36.0788</td>\n",
       "      <td>-82.048315, 36.011293</td>\n",
       "      <td>0</td>\n",
       "      <td>78.597568</td>\n",
       "      <td>1</td>\n",
       "    </tr>\n",
       "    <tr>\n",
       "      <th>1</th>\n",
       "      <td>2019-01-01 00:00:44</td>\n",
       "      <td>630423337322</td>\n",
       "      <td>Heller, Gutmann and Zieme</td>\n",
       "      <td>grocery_pos</td>\n",
       "      <td>107.23</td>\n",
       "      <td>F</td>\n",
       "      <td>43039 Riley Greens Suite 393</td>\n",
       "      <td>Orient</td>\n",
       "      <td>WA</td>\n",
       "      <td>99160</td>\n",
       "      <td>...</td>\n",
       "      <td>Special educational needs teacher</td>\n",
       "      <td>1f76529f8574734946361c461b024d99</td>\n",
       "      <td>0</td>\n",
       "      <td>Stephanie Gill</td>\n",
       "      <td>41</td>\n",
       "      <td>-118.2105, 48.8878</td>\n",
       "      <td>-118.186462, 49.159046999999994</td>\n",
       "      <td>0</td>\n",
       "      <td>30.212176</td>\n",
       "      <td>1</td>\n",
       "    </tr>\n",
       "    <tr>\n",
       "      <th>2</th>\n",
       "      <td>2019-01-01 00:00:51</td>\n",
       "      <td>38859492057661</td>\n",
       "      <td>Lind-Buckridge</td>\n",
       "      <td>entertainment</td>\n",
       "      <td>220.11</td>\n",
       "      <td>M</td>\n",
       "      <td>594 White Dale Suite 530</td>\n",
       "      <td>Malad City</td>\n",
       "      <td>ID</td>\n",
       "      <td>83252</td>\n",
       "      <td>...</td>\n",
       "      <td>Nature conservation officer</td>\n",
       "      <td>a1a22d70485983eac12b5b88dad1cf95</td>\n",
       "      <td>0</td>\n",
       "      <td>Edward Sanchez</td>\n",
       "      <td>57</td>\n",
       "      <td>-112.262, 42.1808</td>\n",
       "      <td>-112.154481, 43.150704</td>\n",
       "      <td>0</td>\n",
       "      <td>108.206083</td>\n",
       "      <td>1</td>\n",
       "    </tr>\n",
       "    <tr>\n",
       "      <th>3</th>\n",
       "      <td>2019-01-01 00:01:16</td>\n",
       "      <td>3534093764340240</td>\n",
       "      <td>Kutch, Hermiston and Farrell</td>\n",
       "      <td>gas_transport</td>\n",
       "      <td>45.00</td>\n",
       "      <td>M</td>\n",
       "      <td>9443 Cynthia Court Apt. 038</td>\n",
       "      <td>Boulder</td>\n",
       "      <td>MT</td>\n",
       "      <td>59632</td>\n",
       "      <td>...</td>\n",
       "      <td>Patent attorney</td>\n",
       "      <td>6b849c168bdad6f867558c3793159a81</td>\n",
       "      <td>0</td>\n",
       "      <td>Jeremy White</td>\n",
       "      <td>52</td>\n",
       "      <td>-112.1138, 46.2306</td>\n",
       "      <td>-112.561071, 47.034331</td>\n",
       "      <td>0</td>\n",
       "      <td>95.673231</td>\n",
       "      <td>1</td>\n",
       "    </tr>\n",
       "    <tr>\n",
       "      <th>4</th>\n",
       "      <td>2019-01-01 00:03:06</td>\n",
       "      <td>375534208663984</td>\n",
       "      <td>Keeling-Crist</td>\n",
       "      <td>misc_pos</td>\n",
       "      <td>41.96</td>\n",
       "      <td>M</td>\n",
       "      <td>408 Bradley Rest</td>\n",
       "      <td>Doe Hill</td>\n",
       "      <td>VA</td>\n",
       "      <td>24433</td>\n",
       "      <td>...</td>\n",
       "      <td>Dance movement psychotherapist</td>\n",
       "      <td>a41d7549acf90789359a9aa5346dcb46</td>\n",
       "      <td>0</td>\n",
       "      <td>Tyler Garcia</td>\n",
       "      <td>33</td>\n",
       "      <td>-79.4629, 38.4207</td>\n",
       "      <td>-78.632459, 38.674999</td>\n",
       "      <td>0</td>\n",
       "      <td>77.556744</td>\n",
       "      <td>1</td>\n",
       "    </tr>\n",
       "  </tbody>\n",
       "</table>\n",
       "<p>5 rows × 21 columns</p>\n",
       "</div>"
      ],
      "text/plain": [
       "      transaction_time  credit_card_number                      merchant  \\\n",
       "0  2019-01-01 00:00:18    2703186189652095          Rippin, Kub and Mann   \n",
       "1  2019-01-01 00:00:44        630423337322     Heller, Gutmann and Zieme   \n",
       "2  2019-01-01 00:00:51      38859492057661                Lind-Buckridge   \n",
       "3  2019-01-01 00:01:16    3534093764340240  Kutch, Hermiston and Farrell   \n",
       "4  2019-01-01 00:03:06     375534208663984                 Keeling-Crist   \n",
       "\n",
       "        category  transaction_amount gender                        street  \\\n",
       "0       misc_net                4.97      F                561 Perry Cove   \n",
       "1    grocery_pos              107.23      F  43039 Riley Greens Suite 393   \n",
       "2  entertainment              220.11      M      594 White Dale Suite 530   \n",
       "3  gas_transport               45.00      M   9443 Cynthia Court Apt. 038   \n",
       "4       misc_pos               41.96      M              408 Bradley Rest   \n",
       "\n",
       "             city state    zip  ...                                job  \\\n",
       "0  Moravian Falls    NC  28654  ...          Psychologist, counselling   \n",
       "1          Orient    WA  99160  ...  Special educational needs teacher   \n",
       "2      Malad City    ID  83252  ...        Nature conservation officer   \n",
       "3         Boulder    MT  59632  ...                    Patent attorney   \n",
       "4        Doe Hill    VA  24433  ...     Dance movement psychotherapist   \n",
       "\n",
       "                 transaction_number is_fraud       full_name age  \\\n",
       "0  0b242abb623afc578575680df30655b9        0  Jennifer Banks  31   \n",
       "1  1f76529f8574734946361c461b024d99        0  Stephanie Gill  41   \n",
       "2  a1a22d70485983eac12b5b88dad1cf95        0  Edward Sanchez  57   \n",
       "3  6b849c168bdad6f867558c3793159a81        0    Jeremy White  52   \n",
       "4  a41d7549acf90789359a9aa5346dcb46        0    Tyler Garcia  33   \n",
       "\n",
       "   transaction_location                merchant_location transaction_hour  \\\n",
       "0     -81.1781, 36.0788            -82.048315, 36.011293                0   \n",
       "1    -118.2105, 48.8878  -118.186462, 49.159046999999994                0   \n",
       "2     -112.262, 42.1808           -112.154481, 43.150704                0   \n",
       "3    -112.1138, 46.2306           -112.561071, 47.034331                0   \n",
       "4     -79.4629, 38.4207            -78.632459, 38.674999                0   \n",
       "\n",
       "   distance_km  is_nighttime  \n",
       "0    78.597568             1  \n",
       "1    30.212176             1  \n",
       "2   108.206083             1  \n",
       "3    95.673231             1  \n",
       "4    77.556744             1  \n",
       "\n",
       "[5 rows x 21 columns]"
      ]
     },
     "execution_count": 8,
     "metadata": {},
     "output_type": "execute_result"
    }
   ],
   "source": [
    "# Read the dataset\n",
    "df = pd.read_csv(\"credit_card_fraud.csv\")\n",
    "df.head()"
   ]
  },
  {
   "cell_type": "code",
   "execution_count": 9,
   "metadata": {},
   "outputs": [
    {
     "name": "stdout",
     "output_type": "stream",
     "text": [
      "<class 'pandas.core.frame.DataFrame'>\n",
      "RangeIndex: 1852394 entries, 0 to 1852393\n",
      "Data columns (total 21 columns):\n",
      " #   Column                Dtype  \n",
      "---  ------                -----  \n",
      " 0   transaction_time      object \n",
      " 1   credit_card_number    int64  \n",
      " 2   merchant              object \n",
      " 3   category              object \n",
      " 4   transaction_amount    float64\n",
      " 5   gender                object \n",
      " 6   street                object \n",
      " 7   city                  object \n",
      " 8   state                 object \n",
      " 9   zip                   int64  \n",
      " 10  city_population       int64  \n",
      " 11  job                   object \n",
      " 12  transaction_number    object \n",
      " 13  is_fraud              int64  \n",
      " 14  full_name             object \n",
      " 15  age                   int64  \n",
      " 16  transaction_location  object \n",
      " 17  merchant_location     object \n",
      " 18  transaction_hour      int64  \n",
      " 19  distance_km           float64\n",
      " 20  is_nighttime          int64  \n",
      "dtypes: float64(2), int64(7), object(12)\n",
      "memory usage: 296.8+ MB\n"
     ]
    }
   ],
   "source": [
    "# Dataset information \n",
    "df.info()"
   ]
  },
  {
   "cell_type": "code",
   "execution_count": 10,
   "metadata": {},
   "outputs": [],
   "source": [
    "# Change data types\n",
    "df[\"transaction_time\"] = pd.to_datetime(df[\"transaction_time\"])\n",
    "df[\"credit_card_number\"] = df[\"credit_card_number\"].astype(str)\n",
    "df[\"zip\"] = df[\"zip\"].astype(str)\n",
    "df[\"is_fraud\"] = df[\"is_fraud\"].astype(str)\n",
    "df[\"is_nighttime\"] = df[\"is_nighttime\"].astype(str)"
   ]
  },
  {
   "cell_type": "code",
   "execution_count": 11,
   "metadata": {},
   "outputs": [
    {
     "data": {
      "application/vnd.microsoft.datawrangler.viewer.v0+json": {
       "columns": [
        {
         "name": "index",
         "rawType": "object",
         "type": "string"
        },
        {
         "name": "count",
         "rawType": "object",
         "type": "unknown"
        },
        {
         "name": "mean",
         "rawType": "object",
         "type": "unknown"
        },
        {
         "name": "min",
         "rawType": "object",
         "type": "unknown"
        },
        {
         "name": "25%",
         "rawType": "object",
         "type": "unknown"
        },
        {
         "name": "50%",
         "rawType": "object",
         "type": "unknown"
        },
        {
         "name": "75%",
         "rawType": "object",
         "type": "unknown"
        },
        {
         "name": "max",
         "rawType": "object",
         "type": "unknown"
        },
        {
         "name": "std",
         "rawType": "object",
         "type": "unknown"
        }
       ],
       "ref": "774003fc-3357-4feb-a839-a62643ace48d",
       "rows": [
        [
         "transaction_time",
         "1852394",
         "2020-01-20 21:31:46.801827328",
         "2019-01-01 00:00:18",
         "2019-07-23 04:13:43.750000128",
         "2020-01-02 01:15:31",
         "2020-07-23 12:11:25.249999872",
         "2020-12-31 23:59:34",
         null
        ],
        [
         "transaction_amount",
         "1852394.0",
         "70.06356747538595",
         "1.0",
         "9.64",
         "47.45",
         "83.1",
         "28948.9",
         "159.25397477396325"
        ],
        [
         "city_population",
         "1852394.0",
         "88643.67450931066",
         "23.0",
         "741.0",
         "2443.0",
         "20328.0",
         "2906700.0",
         "301487.61834357795"
        ],
        [
         "age",
         "1852394.0",
         "46.211379976398106",
         "14.0",
         "33.0",
         "44.0",
         "57.0",
         "96.0",
         "17.39544606101975"
        ],
        [
         "transaction_hour",
         "1852394.0",
         "12.806119000601385",
         "0.0",
         "7.0",
         "14.0",
         "19.0",
         "23.0",
         "6.815752946151732"
        ],
        [
         "distance_km",
         "1852394.0",
         "76.11172606007766",
         "0.0222545156382968",
         "55.32008732770313",
         "78.21637956787939",
         "98.50946744764194",
         "152.11717310594904",
         "29.11697023582957"
        ]
       ],
       "shape": {
        "columns": 8,
        "rows": 6
       }
      },
      "text/html": [
       "<div>\n",
       "<style scoped>\n",
       "    .dataframe tbody tr th:only-of-type {\n",
       "        vertical-align: middle;\n",
       "    }\n",
       "\n",
       "    .dataframe tbody tr th {\n",
       "        vertical-align: top;\n",
       "    }\n",
       "\n",
       "    .dataframe thead th {\n",
       "        text-align: right;\n",
       "    }\n",
       "</style>\n",
       "<table border=\"1\" class=\"dataframe\">\n",
       "  <thead>\n",
       "    <tr style=\"text-align: right;\">\n",
       "      <th></th>\n",
       "      <th>count</th>\n",
       "      <th>mean</th>\n",
       "      <th>min</th>\n",
       "      <th>25%</th>\n",
       "      <th>50%</th>\n",
       "      <th>75%</th>\n",
       "      <th>max</th>\n",
       "      <th>std</th>\n",
       "    </tr>\n",
       "  </thead>\n",
       "  <tbody>\n",
       "    <tr>\n",
       "      <th>transaction_time</th>\n",
       "      <td>1852394</td>\n",
       "      <td>2020-01-20 21:31:46.801827328</td>\n",
       "      <td>2019-01-01 00:00:18</td>\n",
       "      <td>2019-07-23 04:13:43.750000128</td>\n",
       "      <td>2020-01-02 01:15:31</td>\n",
       "      <td>2020-07-23 12:11:25.249999872</td>\n",
       "      <td>2020-12-31 23:59:34</td>\n",
       "      <td>NaN</td>\n",
       "    </tr>\n",
       "    <tr>\n",
       "      <th>transaction_amount</th>\n",
       "      <td>1852394.0</td>\n",
       "      <td>70.063567</td>\n",
       "      <td>1.0</td>\n",
       "      <td>9.64</td>\n",
       "      <td>47.45</td>\n",
       "      <td>83.1</td>\n",
       "      <td>28948.9</td>\n",
       "      <td>159.253975</td>\n",
       "    </tr>\n",
       "    <tr>\n",
       "      <th>city_population</th>\n",
       "      <td>1852394.0</td>\n",
       "      <td>88643.674509</td>\n",
       "      <td>23.0</td>\n",
       "      <td>741.0</td>\n",
       "      <td>2443.0</td>\n",
       "      <td>20328.0</td>\n",
       "      <td>2906700.0</td>\n",
       "      <td>301487.618344</td>\n",
       "    </tr>\n",
       "    <tr>\n",
       "      <th>age</th>\n",
       "      <td>1852394.0</td>\n",
       "      <td>46.21138</td>\n",
       "      <td>14.0</td>\n",
       "      <td>33.0</td>\n",
       "      <td>44.0</td>\n",
       "      <td>57.0</td>\n",
       "      <td>96.0</td>\n",
       "      <td>17.395446</td>\n",
       "    </tr>\n",
       "    <tr>\n",
       "      <th>transaction_hour</th>\n",
       "      <td>1852394.0</td>\n",
       "      <td>12.806119</td>\n",
       "      <td>0.0</td>\n",
       "      <td>7.0</td>\n",
       "      <td>14.0</td>\n",
       "      <td>19.0</td>\n",
       "      <td>23.0</td>\n",
       "      <td>6.815753</td>\n",
       "    </tr>\n",
       "    <tr>\n",
       "      <th>distance_km</th>\n",
       "      <td>1852394.0</td>\n",
       "      <td>76.111726</td>\n",
       "      <td>0.022255</td>\n",
       "      <td>55.320087</td>\n",
       "      <td>78.21638</td>\n",
       "      <td>98.509467</td>\n",
       "      <td>152.117173</td>\n",
       "      <td>29.11697</td>\n",
       "    </tr>\n",
       "  </tbody>\n",
       "</table>\n",
       "</div>"
      ],
      "text/plain": [
       "                        count                           mean  \\\n",
       "transaction_time      1852394  2020-01-20 21:31:46.801827328   \n",
       "transaction_amount  1852394.0                      70.063567   \n",
       "city_population     1852394.0                   88643.674509   \n",
       "age                 1852394.0                       46.21138   \n",
       "transaction_hour    1852394.0                      12.806119   \n",
       "distance_km         1852394.0                      76.111726   \n",
       "\n",
       "                                    min                            25%  \\\n",
       "transaction_time    2019-01-01 00:00:18  2019-07-23 04:13:43.750000128   \n",
       "transaction_amount                  1.0                           9.64   \n",
       "city_population                    23.0                          741.0   \n",
       "age                                14.0                           33.0   \n",
       "transaction_hour                    0.0                            7.0   \n",
       "distance_km                    0.022255                      55.320087   \n",
       "\n",
       "                                    50%                            75%  \\\n",
       "transaction_time    2020-01-02 01:15:31  2020-07-23 12:11:25.249999872   \n",
       "transaction_amount                47.45                           83.1   \n",
       "city_population                  2443.0                        20328.0   \n",
       "age                                44.0                           57.0   \n",
       "transaction_hour                   14.0                           19.0   \n",
       "distance_km                    78.21638                      98.509467   \n",
       "\n",
       "                                    max            std  \n",
       "transaction_time    2020-12-31 23:59:34            NaN  \n",
       "transaction_amount              28948.9     159.253975  \n",
       "city_population               2906700.0  301487.618344  \n",
       "age                                96.0      17.395446  \n",
       "transaction_hour                   23.0       6.815753  \n",
       "distance_km                  152.117173       29.11697  "
      ]
     },
     "execution_count": 11,
     "metadata": {},
     "output_type": "execute_result"
    }
   ],
   "source": [
    "# Descriptive statistics on numerical features\n",
    "df.describe().T"
   ]
  },
  {
   "cell_type": "code",
   "execution_count": 12,
   "metadata": {},
   "outputs": [
    {
     "data": {
      "application/vnd.microsoft.datawrangler.viewer.v0+json": {
       "columns": [
        {
         "name": "index",
         "rawType": "object",
         "type": "string"
        },
        {
         "name": "count",
         "rawType": "object",
         "type": "unknown"
        },
        {
         "name": "unique",
         "rawType": "object",
         "type": "unknown"
        },
        {
         "name": "top",
         "rawType": "object",
         "type": "string"
        },
        {
         "name": "freq",
         "rawType": "object",
         "type": "unknown"
        }
       ],
       "ref": "264a23ac-d241-4a5c-8808-e556940276a4",
       "rows": [
        [
         "credit_card_number",
         "1852394",
         "999",
         "6538441737335434",
         "4392"
        ],
        [
         "merchant",
         "1852394",
         "693",
         "Kilback LLC",
         "6262"
        ],
        [
         "category",
         "1852394",
         "14",
         "gas_transport",
         "188029"
        ],
        [
         "gender",
         "1852394",
         "2",
         "F",
         "1014749"
        ],
        [
         "street",
         "1852394",
         "999",
         "444 Robert Mews",
         "4392"
        ],
        [
         "city",
         "1852394",
         "906",
         "Birmingham",
         "8040"
        ],
        [
         "state",
         "1852394",
         "51",
         "TX",
         "135269"
        ],
        [
         "zip",
         "1852394",
         "985",
         "82514",
         "5116"
        ],
        [
         "job",
         "1852394",
         "497",
         "Film/video editor",
         "13898"
        ],
        [
         "transaction_number",
         "1852394",
         "1852394",
         "0b242abb623afc578575680df30655b9",
         "1"
        ],
        [
         "is_fraud",
         "1852394",
         "2",
         "0",
         "1842743"
        ],
        [
         "full_name",
         "1852394",
         "989",
         "Scott Martin",
         "6583"
        ],
        [
         "transaction_location",
         "1852394",
         "985",
         "-108.8964, 43.0048",
         "5116"
        ],
        [
         "merchant_location",
         "1852394",
         "1852394",
         "-82.048315, 36.011293",
         "1"
        ],
        [
         "is_nighttime",
         "1852394",
         "2",
         "0",
         "1323635"
        ]
       ],
       "shape": {
        "columns": 4,
        "rows": 15
       }
      },
      "text/html": [
       "<div>\n",
       "<style scoped>\n",
       "    .dataframe tbody tr th:only-of-type {\n",
       "        vertical-align: middle;\n",
       "    }\n",
       "\n",
       "    .dataframe tbody tr th {\n",
       "        vertical-align: top;\n",
       "    }\n",
       "\n",
       "    .dataframe thead th {\n",
       "        text-align: right;\n",
       "    }\n",
       "</style>\n",
       "<table border=\"1\" class=\"dataframe\">\n",
       "  <thead>\n",
       "    <tr style=\"text-align: right;\">\n",
       "      <th></th>\n",
       "      <th>count</th>\n",
       "      <th>unique</th>\n",
       "      <th>top</th>\n",
       "      <th>freq</th>\n",
       "    </tr>\n",
       "  </thead>\n",
       "  <tbody>\n",
       "    <tr>\n",
       "      <th>credit_card_number</th>\n",
       "      <td>1852394</td>\n",
       "      <td>999</td>\n",
       "      <td>6538441737335434</td>\n",
       "      <td>4392</td>\n",
       "    </tr>\n",
       "    <tr>\n",
       "      <th>merchant</th>\n",
       "      <td>1852394</td>\n",
       "      <td>693</td>\n",
       "      <td>Kilback LLC</td>\n",
       "      <td>6262</td>\n",
       "    </tr>\n",
       "    <tr>\n",
       "      <th>category</th>\n",
       "      <td>1852394</td>\n",
       "      <td>14</td>\n",
       "      <td>gas_transport</td>\n",
       "      <td>188029</td>\n",
       "    </tr>\n",
       "    <tr>\n",
       "      <th>gender</th>\n",
       "      <td>1852394</td>\n",
       "      <td>2</td>\n",
       "      <td>F</td>\n",
       "      <td>1014749</td>\n",
       "    </tr>\n",
       "    <tr>\n",
       "      <th>street</th>\n",
       "      <td>1852394</td>\n",
       "      <td>999</td>\n",
       "      <td>444 Robert Mews</td>\n",
       "      <td>4392</td>\n",
       "    </tr>\n",
       "    <tr>\n",
       "      <th>city</th>\n",
       "      <td>1852394</td>\n",
       "      <td>906</td>\n",
       "      <td>Birmingham</td>\n",
       "      <td>8040</td>\n",
       "    </tr>\n",
       "    <tr>\n",
       "      <th>state</th>\n",
       "      <td>1852394</td>\n",
       "      <td>51</td>\n",
       "      <td>TX</td>\n",
       "      <td>135269</td>\n",
       "    </tr>\n",
       "    <tr>\n",
       "      <th>zip</th>\n",
       "      <td>1852394</td>\n",
       "      <td>985</td>\n",
       "      <td>82514</td>\n",
       "      <td>5116</td>\n",
       "    </tr>\n",
       "    <tr>\n",
       "      <th>job</th>\n",
       "      <td>1852394</td>\n",
       "      <td>497</td>\n",
       "      <td>Film/video editor</td>\n",
       "      <td>13898</td>\n",
       "    </tr>\n",
       "    <tr>\n",
       "      <th>transaction_number</th>\n",
       "      <td>1852394</td>\n",
       "      <td>1852394</td>\n",
       "      <td>0b242abb623afc578575680df30655b9</td>\n",
       "      <td>1</td>\n",
       "    </tr>\n",
       "    <tr>\n",
       "      <th>is_fraud</th>\n",
       "      <td>1852394</td>\n",
       "      <td>2</td>\n",
       "      <td>0</td>\n",
       "      <td>1842743</td>\n",
       "    </tr>\n",
       "    <tr>\n",
       "      <th>full_name</th>\n",
       "      <td>1852394</td>\n",
       "      <td>989</td>\n",
       "      <td>Scott Martin</td>\n",
       "      <td>6583</td>\n",
       "    </tr>\n",
       "    <tr>\n",
       "      <th>transaction_location</th>\n",
       "      <td>1852394</td>\n",
       "      <td>985</td>\n",
       "      <td>-108.8964, 43.0048</td>\n",
       "      <td>5116</td>\n",
       "    </tr>\n",
       "    <tr>\n",
       "      <th>merchant_location</th>\n",
       "      <td>1852394</td>\n",
       "      <td>1852394</td>\n",
       "      <td>-82.048315, 36.011293</td>\n",
       "      <td>1</td>\n",
       "    </tr>\n",
       "    <tr>\n",
       "      <th>is_nighttime</th>\n",
       "      <td>1852394</td>\n",
       "      <td>2</td>\n",
       "      <td>0</td>\n",
       "      <td>1323635</td>\n",
       "    </tr>\n",
       "  </tbody>\n",
       "</table>\n",
       "</div>"
      ],
      "text/plain": [
       "                        count   unique                               top  \\\n",
       "credit_card_number    1852394      999                  6538441737335434   \n",
       "merchant              1852394      693                       Kilback LLC   \n",
       "category              1852394       14                     gas_transport   \n",
       "gender                1852394        2                                 F   \n",
       "street                1852394      999                   444 Robert Mews   \n",
       "city                  1852394      906                        Birmingham   \n",
       "state                 1852394       51                                TX   \n",
       "zip                   1852394      985                             82514   \n",
       "job                   1852394      497                 Film/video editor   \n",
       "transaction_number    1852394  1852394  0b242abb623afc578575680df30655b9   \n",
       "is_fraud              1852394        2                                 0   \n",
       "full_name             1852394      989                      Scott Martin   \n",
       "transaction_location  1852394      985                -108.8964, 43.0048   \n",
       "merchant_location     1852394  1852394             -82.048315, 36.011293   \n",
       "is_nighttime          1852394        2                                 0   \n",
       "\n",
       "                         freq  \n",
       "credit_card_number       4392  \n",
       "merchant                 6262  \n",
       "category               188029  \n",
       "gender                1014749  \n",
       "street                   4392  \n",
       "city                     8040  \n",
       "state                  135269  \n",
       "zip                      5116  \n",
       "job                     13898  \n",
       "transaction_number          1  \n",
       "is_fraud              1842743  \n",
       "full_name                6583  \n",
       "transaction_location     5116  \n",
       "merchant_location           1  \n",
       "is_nighttime          1323635  "
      ]
     },
     "execution_count": 12,
     "metadata": {},
     "output_type": "execute_result"
    }
   ],
   "source": [
    "# Descriptive statistics on categorical features\n",
    "df.describe(include='object').T"
   ]
  },
  {
   "cell_type": "markdown",
   "metadata": {},
   "source": [
    "**Dataset Description**: This dataset was intially used inside the notebook file for exploratory data analysis to understand and gain more insights of fraud transactions. There were some cleaning and new columns added and now we will use this dataset to do preprocessing before fitting into the models."
   ]
  },
  {
   "cell_type": "markdown",
   "metadata": {},
   "source": [
    "---"
   ]
  },
  {
   "cell_type": "markdown",
   "metadata": {},
   "source": [
    "### **Data Preprocessing**"
   ]
  },
  {
   "cell_type": "code",
   "execution_count": 13,
   "metadata": {},
   "outputs": [
    {
     "data": {
      "text/plain": [
       "Index(['transaction_amount', 'is_nighttime', 'category',\n",
       "       'transaction_location', 'job', 'state', 'is_fraud'],\n",
       "      dtype='object')"
      ]
     },
     "execution_count": 13,
     "metadata": {},
     "output_type": "execute_result"
    }
   ],
   "source": [
    "# Get only necessary columns\n",
    "features = [\"transaction_amount\", \"is_nighttime\", \"category\", \"transaction_location\", \"job\", \"state\", \"is_fraud\"]\n",
    "df = df[features]\n",
    "df.columns"
   ]
  },
  {
   "cell_type": "code",
   "execution_count": 17,
   "metadata": {},
   "outputs": [],
   "source": [
    "# Define the categorical features\n",
    "low_cardinality_features = [\"category\", \"is_nighttime\"]\n",
    "high_cardinality_features = [\"transaction_location\", \"job\", \"state\"]\n",
    "\n",
    "# Define processing pipeline \n",
    "preprocessor = ColumnTransformer(\n",
    "    transformers=[\n",
    "        (\"cat_onehot\", OneHotEncoder(drop=\"first\", sparse_output=False), low_cardinality_features),\n",
    "        (\"car_target\", TargetEncoder(), high_cardinality_features),\n",
    "    ],\n",
    "    remainder=\"passthrough\"\n",
    ")"
   ]
  },
  {
   "cell_type": "code",
   "execution_count": 66,
   "metadata": {},
   "outputs": [],
   "source": [
    "# Handle class imbalance by sampling \n",
    "X = df.drop(\"is_fraud\", axis=1)\n",
    "y = df[\"is_fraud\"]\n",
    "\n",
    "# Convert target variable to numeric\n",
    "y = y.astype(int)\n",
    "\n",
    "# Split the dataset into training and testing sets\n",
    "X_train, X_test, y_train, y_test = train_test_split(X, y, test_size=0.2, random_state=42, stratify=y)\n",
    "\n",
    "# Use SMOTE for oversampling the minority class (fraud)\n",
    "sampling_strategy = 0.1\n",
    "smote = SMOTE(sampling_strategy=sampling_strategy, random_state=42)\n",
    "\n",
    "# Create a pipeline with preprocessing and SMOTE\n",
    "pipeline = Pipeline(steps=[\n",
    "    (\"preprocessor\", preprocessor),\n",
    "    (\"smote\", smote)\n",
    "])"
   ]
  },
  {
   "cell_type": "code",
   "execution_count": 67,
   "metadata": {},
   "outputs": [],
   "source": [
    "# Apply preprocessing and resampling to training \n",
    "X_train_resampled, y_train_resampled = pipeline.fit_resample(X_train, y_train)"
   ]
  },
  {
   "cell_type": "code",
   "execution_count": 76,
   "metadata": {},
   "outputs": [
    {
     "name": "stdout",
     "output_type": "stream",
     "text": [
      "Minority class before oversampling 7721\n",
      "Minority class after oversampling 147419\n"
     ]
    }
   ],
   "source": [
    "# Check the shape of resampled dataset \n",
    "print(\"Minority class before oversampling\", y_train[y_train == 1].count())\n",
    "print(\"Minority class after oversampling\", y_train_resampled[y_train_resampled == 1].count())"
   ]
  },
  {
   "cell_type": "code",
   "execution_count": 70,
   "metadata": {},
   "outputs": [
    {
     "data": {
      "image/png": "[encoded data removed]",
      "text/plain": [
       "<Figure size 1200x800 with 1 Axes>"
      ]
     },
     "metadata": {},
     "output_type": "display_data"
    }
   ],
   "source": [
    "# Feature importance analysis \n",
    "rf = RandomForestClassifier(random_state=42)\n",
    "rf.fit(X_train_resampled, y_train_resampled)\n",
    "\n",
    "# Get feature importance\n",
    "feature_names = preprocessor.get_feature_names_out()\n",
    "importance = rf.feature_importances_\n",
    "\n",
    "# Create a DataFrame for visualization\n",
    "feature_importance = pd.DataFrame({\n",
    "    'Feature': feature_names,\n",
    "    'Importance': importance\n",
    "})\n",
    "\n",
    "# Sort by importance\n",
    "feature_importance = feature_importance.sort_values('Importance', ascending=False)\n",
    "\n",
    "# Plot top 15 features\n",
    "plt.figure(figsize=(12, 8))\n",
    "sns.barplot(x='Importance', y='Feature', data=feature_importance.head(15))\n",
    "plt.title('Top 15 Most Important Features')\n",
    "plt.tight_layout()\n",
    "plt.show()"
   ]
  },
  {
   "cell_type": "code",
   "execution_count": null,
   "metadata": {},
   "outputs": [],
   "source": [
    "# Create final preprocessing pipeline \n",
    "final_pipeline = Pipeline([\n",
    "    (\"preprocessor\", preprocessor),\n",
    "    (\"feature_selector\", SelectFromModel(rf, threshold='median')),\n",
    "    (\"smote\", smote)\n",
    "])\n",
    "\n",
    "# Pipeline for testing \n",
    "test_pipeline = Pipeline([\n",
    "    (\"preprocessor\", final_pipeline.named_steps[\"preprocessor\"]),\n",
    "    (\"feature_selector\", final_pipeline.named_steps[\"feature_selector\"])\n",
    "])\n",
    "\n",
    "# Apply final preprocessing and resampling to training data\n",
    "X_train_final, y_train_final = final_pipeline.fit_resample(X_train, y_train)\n",
    "\n",
    "# Transform test data (without fit)\n",
    "X_test_final = test_pipeline.transform(X_test)"
   ]
  },
  {
   "cell_type": "code",
   "execution_count": 73,
   "metadata": {},
   "outputs": [
    {
     "name": "stdout",
     "output_type": "stream",
     "text": [
      "Transformed training data shape: (1621613, 9)\n",
      "Transformd testing data shape: (370479, 9)\n"
     ]
    }
   ],
   "source": [
    "# Check the shape of transformed train and test data\n",
    "print(\"Transformed training data shape:\", X_train_final.shape)\n",
    "print(\"Transformd testing data shape:\", X_test_final.shape)"
   ]
  },
  {
   "cell_type": "markdown",
   "metadata": {},
   "source": [
    "### **Model Training & Evaluation**"
   ]
  },
  {
   "cell_type": "code",
   "execution_count": null,
   "metadata": {},
   "outputs": [
    {
     "name": "stdout",
     "output_type": "stream",
     "text": [
      "CV precision - Mean: 0.8140\n",
      "CV recall - Mean: 0.6622\n",
      "CV f1 - Mean: 0.7303\n"
     ]
    }
   ],
   "source": [
    "# Setup the StratifiedKFold for cross-validation\n",
    "skf = StratifiedKFold(n_splits=5, shuffle=True, random_state=42)\n",
    "\n",
    "# Define scoring metrics for evaluation \n",
    "scoring = {\n",
    "    \"precision\": make_scorer(precision_score, pos_label=1),\n",
    "    \"recall\": make_scorer(recall_score, pos_label=1),\n",
    "    \"f1\": make_scorer(f1_score, pos_label=1)\n",
    "}\n",
    "\n",
    "# Create pipeline \n",
    "full_pipeline = Pipeline(steps=[\n",
    "    (\"preprocessor\", preprocessor),\n",
    "    (\"feature_selector\", SelectFromModel(rf, threshold='median')),\n",
    "    (\"classifier\", RandomForestClassifier(random_state=42))\n",
    "])\n",
    "\n",
    "# Perform cross-validation\n",
    "cv_results = cross_validate(estimator=full_pipeline, X=X_train, y=y_train,\n",
    "                            cv=skf, scoring=scoring, return_train_score=True)\n",
    "\n",
    "# Display cross-validation results\n",
    "for metric in scoring.keys():\n",
    "    print(f\"CV {metric} - Mean: {cv_results[f\"test_{metric}\"].mean():.4f}\")"
   ]
  },
  {
   "cell_type": "code",
   "execution_count": null,
   "metadata": {},
   "outputs": [],
   "source": []
  }
 ],
 "metadata": {
  "kernelspec": {
   "display_name": "base",
   "language": "python",
   "name": "python3"
  },
  "language_info": {
   "codemirror_mode": {
    "name": "ipython",
    "version": 3
   },
   "file_extension": ".py",
   "mimetype": "text/x-python",
   "name": "python",
   "nbconvert_exporter": "python",
   "pygments_lexer": "ipython3",
   "version": "3.12.7"
  }
 },
 "nbformat": 4,
 "nbformat_minor": 2
}
