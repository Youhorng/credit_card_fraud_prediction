{
 "cells": [
  {
   "cell_type": "markdown",
   "metadata": {},
   "source": [
    "### **Model Development**"
   ]
  },
  {
   "cell_type": "markdown",
   "metadata": {},
   "source": [
    "### **Project Setup**"
   ]
  },
  {
   "cell_type": "code",
   "execution_count": 1,
   "metadata": {},
   "outputs": [],
   "source": [
    "# Import libraries \n",
    "import pandas as pd\n",
    "import numpy as np\n",
    "import matplotlib.pyplot as plt\n",
    "import seaborn as sns\n",
    "import plotly.express as px\n",
    "import plotly.graph_objects as go\n",
    "import missingno as msno\n",
    "import kagglehub # type: ignore\n",
    "\n",
    "# Data Preprocessing\n",
    "from sklearn.preprocessing import StandardScaler\n",
    "from sklearn.preprocessing import LabelEncoder, FunctionTransformer\n",
    "from sklearn.compose import ColumnTransformer\n",
    "\n",
    "# Training and Evaluations\n",
    "from sklearn.model_selection import train_test_split\n",
    "from sklearn.metrics import classification_report, confusion_matrix, precision_recall_curve\n",
    "from sklearn.metrics import accuracy_score, recall_score, precision_score, f1_score\n",
    "\n",
    "# Hyper-parameter Tuning and Cross Validation\n",
    "from sklearn.model_selection import GridSearchCV\n",
    "from sklearn.model_selection import cross_val_score, cross_validate\n",
    "\n",
    "# Handling Imbalanced Data\n",
    "from imblearn.over_sampling import SMOTE, RandomOverSampler\n",
    "from imblearn.under_sampling import RandomUnderSampler\n",
    "from imblearn.pipeline import Pipeline, make_pipeline \n",
    "\n",
    "# Import machine learning models\n",
    "from sklearn.tree import DecisionTreeClassifier\n",
    "from sklearn.ensemble import RandomForestClassifier\n",
    "from sklearn.ensemble import AdaBoostClassifier\n",
    "from xgboost import XGBClassifier"
   ]
  },
  {
   "cell_type": "code",
   "execution_count": 4,
   "metadata": {},
   "outputs": [
    {
     "data": {
      "application/vnd.microsoft.datawrangler.viewer.v0+json": {
       "columns": [
        {
         "name": "index",
         "rawType": "int64",
         "type": "integer"
        },
        {
         "name": "category",
         "rawType": "object",
         "type": "string"
        },
        {
         "name": "transaction_amount",
         "rawType": "float64",
         "type": "float"
        },
        {
         "name": "gender",
         "rawType": "object",
         "type": "string"
        },
        {
         "name": "state",
         "rawType": "object",
         "type": "string"
        },
        {
         "name": "job",
         "rawType": "object",
         "type": "string"
        },
        {
         "name": "is_fraud",
         "rawType": "int64",
         "type": "integer"
        },
        {
         "name": "age",
         "rawType": "int64",
         "type": "integer"
        },
        {
         "name": "transaction_location",
         "rawType": "object",
         "type": "string"
        },
        {
         "name": "transaction_hour",
         "rawType": "int64",
         "type": "integer"
        }
       ],
       "ref": "958932b1-a145-43bb-bb6e-726b19a602b6",
       "rows": [
        [
         "0",
         "misc_net",
         "4.97",
         "F",
         "NC",
         "Psychologist, counselling",
         "0",
         "31",
         "-81.1781, 36.0788",
         "0"
        ],
        [
         "1",
         "grocery_pos",
         "107.23",
         "F",
         "WA",
         "Special educational needs teacher",
         "0",
         "41",
         "-118.2105, 48.8878",
         "0"
        ],
        [
         "2",
         "entertainment",
         "220.11",
         "M",
         "ID",
         "Nature conservation officer",
         "0",
         "57",
         "-112.262, 42.1808",
         "0"
        ],
        [
         "3",
         "gas_transport",
         "45.0",
         "M",
         "MT",
         "Patent attorney",
         "0",
         "52",
         "-112.1138, 46.2306",
         "0"
        ],
        [
         "4",
         "misc_pos",
         "41.96",
         "M",
         "VA",
         "Dance movement psychotherapist",
         "0",
         "33",
         "-79.4629, 38.4207",
         "0"
        ]
       ],
       "shape": {
        "columns": 9,
        "rows": 5
       }
      },
      "text/html": [
       "<div>\n",
       "<style scoped>\n",
       "    .dataframe tbody tr th:only-of-type {\n",
       "        vertical-align: middle;\n",
       "    }\n",
       "\n",
       "    .dataframe tbody tr th {\n",
       "        vertical-align: top;\n",
       "    }\n",
       "\n",
       "    .dataframe thead th {\n",
       "        text-align: right;\n",
       "    }\n",
       "</style>\n",
       "<table border=\"1\" class=\"dataframe\">\n",
       "  <thead>\n",
       "    <tr style=\"text-align: right;\">\n",
       "      <th></th>\n",
       "      <th>category</th>\n",
       "      <th>transaction_amount</th>\n",
       "      <th>gender</th>\n",
       "      <th>state</th>\n",
       "      <th>job</th>\n",
       "      <th>is_fraud</th>\n",
       "      <th>age</th>\n",
       "      <th>transaction_location</th>\n",
       "      <th>transaction_hour</th>\n",
       "    </tr>\n",
       "  </thead>\n",
       "  <tbody>\n",
       "    <tr>\n",
       "      <th>0</th>\n",
       "      <td>misc_net</td>\n",
       "      <td>4.97</td>\n",
       "      <td>F</td>\n",
       "      <td>NC</td>\n",
       "      <td>Psychologist, counselling</td>\n",
       "      <td>0</td>\n",
       "      <td>31</td>\n",
       "      <td>-81.1781, 36.0788</td>\n",
       "      <td>0</td>\n",
       "    </tr>\n",
       "    <tr>\n",
       "      <th>1</th>\n",
       "      <td>grocery_pos</td>\n",
       "      <td>107.23</td>\n",
       "      <td>F</td>\n",
       "      <td>WA</td>\n",
       "      <td>Special educational needs teacher</td>\n",
       "      <td>0</td>\n",
       "      <td>41</td>\n",
       "      <td>-118.2105, 48.8878</td>\n",
       "      <td>0</td>\n",
       "    </tr>\n",
       "    <tr>\n",
       "      <th>2</th>\n",
       "      <td>entertainment</td>\n",
       "      <td>220.11</td>\n",
       "      <td>M</td>\n",
       "      <td>ID</td>\n",
       "      <td>Nature conservation officer</td>\n",
       "      <td>0</td>\n",
       "      <td>57</td>\n",
       "      <td>-112.262, 42.1808</td>\n",
       "      <td>0</td>\n",
       "    </tr>\n",
       "    <tr>\n",
       "      <th>3</th>\n",
       "      <td>gas_transport</td>\n",
       "      <td>45.00</td>\n",
       "      <td>M</td>\n",
       "      <td>MT</td>\n",
       "      <td>Patent attorney</td>\n",
       "      <td>0</td>\n",
       "      <td>52</td>\n",
       "      <td>-112.1138, 46.2306</td>\n",
       "      <td>0</td>\n",
       "    </tr>\n",
       "    <tr>\n",
       "      <th>4</th>\n",
       "      <td>misc_pos</td>\n",
       "      <td>41.96</td>\n",
       "      <td>M</td>\n",
       "      <td>VA</td>\n",
       "      <td>Dance movement psychotherapist</td>\n",
       "      <td>0</td>\n",
       "      <td>33</td>\n",
       "      <td>-79.4629, 38.4207</td>\n",
       "      <td>0</td>\n",
       "    </tr>\n",
       "  </tbody>\n",
       "</table>\n",
       "</div>"
      ],
      "text/plain": [
       "        category  transaction_amount gender state  \\\n",
       "0       misc_net                4.97      F    NC   \n",
       "1    grocery_pos              107.23      F    WA   \n",
       "2  entertainment              220.11      M    ID   \n",
       "3  gas_transport               45.00      M    MT   \n",
       "4       misc_pos               41.96      M    VA   \n",
       "\n",
       "                                 job  is_fraud  age transaction_location  \\\n",
       "0          Psychologist, counselling         0   31    -81.1781, 36.0788   \n",
       "1  Special educational needs teacher         0   41   -118.2105, 48.8878   \n",
       "2        Nature conservation officer         0   57    -112.262, 42.1808   \n",
       "3                    Patent attorney         0   52   -112.1138, 46.2306   \n",
       "4     Dance movement psychotherapist         0   33    -79.4629, 38.4207   \n",
       "\n",
       "   transaction_hour  \n",
       "0                 0  \n",
       "1                 0  \n",
       "2                 0  \n",
       "3                 0  \n",
       "4                 0  "
      ]
     },
     "execution_count": 4,
     "metadata": {},
     "output_type": "execute_result"
    }
   ],
   "source": [
    "# Read the dataset\n",
    "df = pd.read_csv(\"credit_card_fraud.csv\")\n",
    "df.head()"
   ]
  },
  {
   "cell_type": "code",
   "execution_count": 5,
   "metadata": {},
   "outputs": [
    {
     "name": "stdout",
     "output_type": "stream",
     "text": [
      "<class 'pandas.core.frame.DataFrame'>\n",
      "RangeIndex: 1852394 entries, 0 to 1852393\n",
      "Data columns (total 9 columns):\n",
      " #   Column                Dtype  \n",
      "---  ------                -----  \n",
      " 0   category              object \n",
      " 1   transaction_amount    float64\n",
      " 2   gender                object \n",
      " 3   state                 object \n",
      " 4   job                   object \n",
      " 5   is_fraud              int64  \n",
      " 6   age                   int64  \n",
      " 7   transaction_location  object \n",
      " 8   transaction_hour      int64  \n",
      "dtypes: float64(1), int64(3), object(5)\n",
      "memory usage: 127.2+ MB\n"
     ]
    }
   ],
   "source": [
    "# Dataset information \n",
    "df.info()"
   ]
  },
  {
   "cell_type": "code",
   "execution_count": null,
   "metadata": {},
   "outputs": [
    {
     "data": {
      "application/vnd.microsoft.datawrangler.viewer.v0+json": {
       "columns": [
        {
         "name": "index",
         "rawType": "object",
         "type": "string"
        },
        {
         "name": "count",
         "rawType": "float64",
         "type": "float"
        },
        {
         "name": "mean",
         "rawType": "float64",
         "type": "float"
        },
        {
         "name": "std",
         "rawType": "float64",
         "type": "float"
        },
        {
         "name": "min",
         "rawType": "float64",
         "type": "float"
        },
        {
         "name": "25%",
         "rawType": "float64",
         "type": "float"
        },
        {
         "name": "50%",
         "rawType": "float64",
         "type": "float"
        },
        {
         "name": "75%",
         "rawType": "float64",
         "type": "float"
        },
        {
         "name": "max",
         "rawType": "float64",
         "type": "float"
        }
       ],
       "ref": "ad9084cc-88a7-4d00-a196-aaa5bdccffff",
       "rows": [
        [
         "transaction_amount",
         "1852394.0",
         "70.06356747538595",
         "159.25397477396325",
         "1.0",
         "9.64",
         "47.45",
         "83.1",
         "28948.9"
        ],
        [
         "is_fraud",
         "1852394.0",
         "0.005210014716091717",
         "0.07199217499528407",
         "0.0",
         "0.0",
         "0.0",
         "0.0",
         "1.0"
        ],
        [
         "age",
         "1852394.0",
         "46.211379976398106",
         "17.39544606101975",
         "14.0",
         "33.0",
         "44.0",
         "57.0",
         "96.0"
        ],
        [
         "transaction_hour",
         "1852394.0",
         "12.806119000601385",
         "6.815752946151732",
         "0.0",
         "7.0",
         "14.0",
         "19.0",
         "23.0"
        ]
       ],
       "shape": {
        "columns": 8,
        "rows": 4
       }
      },
      "text/html": [
       "<div>\n",
       "<style scoped>\n",
       "    .dataframe tbody tr th:only-of-type {\n",
       "        vertical-align: middle;\n",
       "    }\n",
       "\n",
       "    .dataframe tbody tr th {\n",
       "        vertical-align: top;\n",
       "    }\n",
       "\n",
       "    .dataframe thead th {\n",
       "        text-align: right;\n",
       "    }\n",
       "</style>\n",
       "<table border=\"1\" class=\"dataframe\">\n",
       "  <thead>\n",
       "    <tr style=\"text-align: right;\">\n",
       "      <th></th>\n",
       "      <th>count</th>\n",
       "      <th>mean</th>\n",
       "      <th>std</th>\n",
       "      <th>min</th>\n",
       "      <th>25%</th>\n",
       "      <th>50%</th>\n",
       "      <th>75%</th>\n",
       "      <th>max</th>\n",
       "    </tr>\n",
       "  </thead>\n",
       "  <tbody>\n",
       "    <tr>\n",
       "      <th>transaction_amount</th>\n",
       "      <td>1852394.0</td>\n",
       "      <td>70.063567</td>\n",
       "      <td>159.253975</td>\n",
       "      <td>1.0</td>\n",
       "      <td>9.64</td>\n",
       "      <td>47.45</td>\n",
       "      <td>83.1</td>\n",
       "      <td>28948.9</td>\n",
       "    </tr>\n",
       "    <tr>\n",
       "      <th>is_fraud</th>\n",
       "      <td>1852394.0</td>\n",
       "      <td>0.005210</td>\n",
       "      <td>0.071992</td>\n",
       "      <td>0.0</td>\n",
       "      <td>0.00</td>\n",
       "      <td>0.00</td>\n",
       "      <td>0.0</td>\n",
       "      <td>1.0</td>\n",
       "    </tr>\n",
       "    <tr>\n",
       "      <th>age</th>\n",
       "      <td>1852394.0</td>\n",
       "      <td>46.211380</td>\n",
       "      <td>17.395446</td>\n",
       "      <td>14.0</td>\n",
       "      <td>33.00</td>\n",
       "      <td>44.00</td>\n",
       "      <td>57.0</td>\n",
       "      <td>96.0</td>\n",
       "    </tr>\n",
       "    <tr>\n",
       "      <th>transaction_hour</th>\n",
       "      <td>1852394.0</td>\n",
       "      <td>12.806119</td>\n",
       "      <td>6.815753</td>\n",
       "      <td>0.0</td>\n",
       "      <td>7.00</td>\n",
       "      <td>14.00</td>\n",
       "      <td>19.0</td>\n",
       "      <td>23.0</td>\n",
       "    </tr>\n",
       "  </tbody>\n",
       "</table>\n",
       "</div>"
      ],
      "text/plain": [
       "                        count       mean         std   min    25%    50%  \\\n",
       "transaction_amount  1852394.0  70.063567  159.253975   1.0   9.64  47.45   \n",
       "is_fraud            1852394.0   0.005210    0.071992   0.0   0.00   0.00   \n",
       "age                 1852394.0  46.211380   17.395446  14.0  33.00  44.00   \n",
       "transaction_hour    1852394.0  12.806119    6.815753   0.0   7.00  14.00   \n",
       "\n",
       "                     75%      max  \n",
       "transaction_amount  83.1  28948.9  \n",
       "is_fraud             0.0      1.0  \n",
       "age                 57.0     96.0  \n",
       "transaction_hour    19.0     23.0  "
      ]
     },
     "execution_count": 6,
     "metadata": {},
     "output_type": "execute_result"
    }
   ],
   "source": [
    "# Descriptive statistics on numerical features\n",
    "df.describe().T"
   ]
  },
  {
   "cell_type": "code",
   "execution_count": 7,
   "metadata": {},
   "outputs": [
    {
     "data": {
      "application/vnd.microsoft.datawrangler.viewer.v0+json": {
       "columns": [
        {
         "name": "index",
         "rawType": "object",
         "type": "string"
        },
        {
         "name": "count",
         "rawType": "object",
         "type": "unknown"
        },
        {
         "name": "unique",
         "rawType": "object",
         "type": "unknown"
        },
        {
         "name": "top",
         "rawType": "object",
         "type": "string"
        },
        {
         "name": "freq",
         "rawType": "object",
         "type": "unknown"
        }
       ],
       "ref": "38501377-4273-4cb3-a600-4fedf88cd5a2",
       "rows": [
        [
         "category",
         "1852394",
         "14",
         "gas_transport",
         "188029"
        ],
        [
         "gender",
         "1852394",
         "2",
         "F",
         "1014749"
        ],
        [
         "state",
         "1852394",
         "51",
         "TX",
         "135269"
        ],
        [
         "job",
         "1852394",
         "497",
         "Film/video editor",
         "13898"
        ],
        [
         "transaction_location",
         "1852394",
         "985",
         "-108.8964, 43.0048",
         "5116"
        ]
       ],
       "shape": {
        "columns": 4,
        "rows": 5
       }
      },
      "text/html": [
       "<div>\n",
       "<style scoped>\n",
       "    .dataframe tbody tr th:only-of-type {\n",
       "        vertical-align: middle;\n",
       "    }\n",
       "\n",
       "    .dataframe tbody tr th {\n",
       "        vertical-align: top;\n",
       "    }\n",
       "\n",
       "    .dataframe thead th {\n",
       "        text-align: right;\n",
       "    }\n",
       "</style>\n",
       "<table border=\"1\" class=\"dataframe\">\n",
       "  <thead>\n",
       "    <tr style=\"text-align: right;\">\n",
       "      <th></th>\n",
       "      <th>count</th>\n",
       "      <th>unique</th>\n",
       "      <th>top</th>\n",
       "      <th>freq</th>\n",
       "    </tr>\n",
       "  </thead>\n",
       "  <tbody>\n",
       "    <tr>\n",
       "      <th>category</th>\n",
       "      <td>1852394</td>\n",
       "      <td>14</td>\n",
       "      <td>gas_transport</td>\n",
       "      <td>188029</td>\n",
       "    </tr>\n",
       "    <tr>\n",
       "      <th>gender</th>\n",
       "      <td>1852394</td>\n",
       "      <td>2</td>\n",
       "      <td>F</td>\n",
       "      <td>1014749</td>\n",
       "    </tr>\n",
       "    <tr>\n",
       "      <th>state</th>\n",
       "      <td>1852394</td>\n",
       "      <td>51</td>\n",
       "      <td>TX</td>\n",
       "      <td>135269</td>\n",
       "    </tr>\n",
       "    <tr>\n",
       "      <th>job</th>\n",
       "      <td>1852394</td>\n",
       "      <td>497</td>\n",
       "      <td>Film/video editor</td>\n",
       "      <td>13898</td>\n",
       "    </tr>\n",
       "    <tr>\n",
       "      <th>transaction_location</th>\n",
       "      <td>1852394</td>\n",
       "      <td>985</td>\n",
       "      <td>-108.8964, 43.0048</td>\n",
       "      <td>5116</td>\n",
       "    </tr>\n",
       "  </tbody>\n",
       "</table>\n",
       "</div>"
      ],
      "text/plain": [
       "                        count unique                 top     freq\n",
       "category              1852394     14       gas_transport   188029\n",
       "gender                1852394      2                   F  1014749\n",
       "state                 1852394     51                  TX   135269\n",
       "job                   1852394    497   Film/video editor    13898\n",
       "transaction_location  1852394    985  -108.8964, 43.0048     5116"
      ]
     },
     "execution_count": 7,
     "metadata": {},
     "output_type": "execute_result"
    }
   ],
   "source": [
    "# Descriptive statistics on categorical features\n",
    "df.describe(include='object').T"
   ]
  },
  {
   "cell_type": "markdown",
   "metadata": {
    "vscode": {
     "languageId": "plaintext"
    }
   },
   "source": [
    "### **Feature Engineering**\n",
    "\n",
    "**1. Time-based Features**\n",
    "\n",
    "- Transaction frequency features:\n",
    "\n",
    "    - transactions_last_1h (number of transactions by the same user in the last hour)\n",
    "\n",
    "    - transactions_last_24h (daily transaction rate)\n",
    "\n",
    "    - time_since_last_transaction (seconds/minutes since the user’s previous transaction)\n",
    "\n",
    "- Time-of-day indicators:\n",
    "\n",
    "    - is_nighttime (e.g., 12 AM – 5 AM local time)\n",
    "\n",
    "    - is_weekend (higher fraud risk on weekends?)\n",
    "\n",
    "**2. Behavioral Features (User-level)**\n",
    "\n",
    "- Spending behavior:\n",
    "\n",
    "    - user_avg_amount (mean transaction amount per user)\n",
    "\n",
    "    - amount_deviation (current_amount / user_avg_amount)\n",
    "\n",
    "    - user_median_amount (robust against outliers)\n",
    "\n",
    "- Transaction patterns:\n",
    "\n",
    "    - user_transaction_freq (transactions per day/week)\n",
    "\n",
    "    - user_unique_merchants (number of distinct merchants a user transacts with)\n",
    "\n",
    "**3. Merchant-based Features**\n",
    "\n",
    "- Merchant fraud risk: \n",
    "\n",
    "    - merchant_fraud_rate (historical fraud rate per merchant, using target encoding)\n",
    "\n",
    "    - merchant_transaction_volume (total transactions per merchant)\n",
    "\n",
    "- Merchant category:\n",
    "\n",
    "    - is_high_risk_merchant_category "
   ]
  },
  {
   "cell_type": "markdown",
   "metadata": {},
   "source": [
    "### **Data Preprocessing**"
   ]
  },
  {
   "cell_type": "markdown",
   "metadata": {},
   "source": [
    "### **Model Training & Evaluation**"
   ]
  }
 ],
 "metadata": {
  "kernelspec": {
   "display_name": "base",
   "language": "python",
   "name": "python3"
  },
  "language_info": {
   "codemirror_mode": {
    "name": "ipython",
    "version": 3
   },
   "file_extension": ".py",
   "mimetype": "text/x-python",
   "name": "python",
   "nbconvert_exporter": "python",
   "pygments_lexer": "ipython3",
   "version": "3.12.7"
  }
 },
 "nbformat": 4,
 "nbformat_minor": 2
}
