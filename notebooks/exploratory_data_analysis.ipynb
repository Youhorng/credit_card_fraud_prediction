{
 "cells": [
  {
   "cell_type": "markdown",
   "metadata": {},
   "source": [
    "## **Credti Card Fraud Prediction**"
   ]
  },
  {
   "cell_type": "markdown",
   "metadata": {},
   "source": [
    "## **Project Setup**"
   ]
  },
  {
   "cell_type": "code",
   "execution_count": 1,
   "metadata": {},
   "outputs": [],
   "source": [
    "# Import libraries\n",
    "import pandas as pd\n",
    "import numpy as np\n",
    "import matplotlib.pyplot as plt\n",
    "import seaborn as sns\n",
    "import missingno as msno\n",
    "import kagglehub # type: ignore"
   ]
  },
  {
   "cell_type": "code",
   "execution_count": 2,
   "metadata": {},
   "outputs": [
    {
     "name": "stdout",
     "output_type": "stream",
     "text": [
      "Path to dataset files: /Users/youhorng/.cache/kagglehub/datasets/kartik2112/fraud-detection/versions/1\n"
     ]
    }
   ],
   "source": [
    "# Download latest version of the dataset\n",
    "path = kagglehub.dataset_download(\"kartik2112/fraud-detection\")\n",
    "print(\"Path to dataset files:\", path)"
   ]
  },
  {
   "cell_type": "code",
   "execution_count": 37,
   "metadata": {},
   "outputs": [
    {
     "data": {
      "application/vnd.microsoft.datawrangler.viewer.v0+json": {
       "columns": [
        {
         "name": "index",
         "rawType": "int64",
         "type": "integer"
        },
        {
         "name": "Unnamed: 0",
         "rawType": "int64",
         "type": "integer"
        },
        {
         "name": "trans_date_trans_time",
         "rawType": "object",
         "type": "string"
        },
        {
         "name": "cc_num",
         "rawType": "int64",
         "type": "integer"
        },
        {
         "name": "merchant",
         "rawType": "object",
         "type": "string"
        },
        {
         "name": "category",
         "rawType": "object",
         "type": "string"
        },
        {
         "name": "amt",
         "rawType": "float64",
         "type": "float"
        },
        {
         "name": "first",
         "rawType": "object",
         "type": "string"
        },
        {
         "name": "last",
         "rawType": "object",
         "type": "string"
        },
        {
         "name": "gender",
         "rawType": "object",
         "type": "string"
        },
        {
         "name": "street",
         "rawType": "object",
         "type": "string"
        },
        {
         "name": "city",
         "rawType": "object",
         "type": "string"
        },
        {
         "name": "state",
         "rawType": "object",
         "type": "string"
        },
        {
         "name": "zip",
         "rawType": "int64",
         "type": "integer"
        },
        {
         "name": "lat",
         "rawType": "float64",
         "type": "float"
        },
        {
         "name": "long",
         "rawType": "float64",
         "type": "float"
        },
        {
         "name": "city_pop",
         "rawType": "int64",
         "type": "integer"
        },
        {
         "name": "job",
         "rawType": "object",
         "type": "string"
        },
        {
         "name": "dob",
         "rawType": "object",
         "type": "string"
        },
        {
         "name": "trans_num",
         "rawType": "object",
         "type": "string"
        },
        {
         "name": "unix_time",
         "rawType": "int64",
         "type": "integer"
        },
        {
         "name": "merch_lat",
         "rawType": "float64",
         "type": "float"
        },
        {
         "name": "merch_long",
         "rawType": "float64",
         "type": "float"
        },
        {
         "name": "is_fraud",
         "rawType": "int64",
         "type": "integer"
        }
       ],
       "ref": "97ecf0c9-5a01-4e42-b594-892ba0a63672",
       "rows": [
        [
         "0",
         "0",
         "2019-01-01 00:00:18",
         "2703186189652095",
         "fraud_Rippin, Kub and Mann",
         "misc_net",
         "4.97",
         "Jennifer",
         "Banks",
         "F",
         "561 Perry Cove",
         "Moravian Falls",
         "NC",
         "28654",
         "36.0788",
         "-81.1781",
         "3495",
         "Psychologist, counselling",
         "1988-03-09",
         "0b242abb623afc578575680df30655b9",
         "1325376018",
         "36.011293",
         "-82.048315",
         "0"
        ],
        [
         "1",
         "1",
         "2019-01-01 00:00:44",
         "630423337322",
         "fraud_Heller, Gutmann and Zieme",
         "grocery_pos",
         "107.23",
         "Stephanie",
         "Gill",
         "F",
         "43039 Riley Greens Suite 393",
         "Orient",
         "WA",
         "99160",
         "48.8878",
         "-118.2105",
         "149",
         "Special educational needs teacher",
         "1978-06-21",
         "1f76529f8574734946361c461b024d99",
         "1325376044",
         "49.159046999999994",
         "-118.186462",
         "0"
        ],
        [
         "2",
         "2",
         "2019-01-01 00:00:51",
         "38859492057661",
         "fraud_Lind-Buckridge",
         "entertainment",
         "220.11",
         "Edward",
         "Sanchez",
         "M",
         "594 White Dale Suite 530",
         "Malad City",
         "ID",
         "83252",
         "42.1808",
         "-112.262",
         "4154",
         "Nature conservation officer",
         "1962-01-19",
         "a1a22d70485983eac12b5b88dad1cf95",
         "1325376051",
         "43.150704",
         "-112.154481",
         "0"
        ],
        [
         "3",
         "3",
         "2019-01-01 00:01:16",
         "3534093764340240",
         "fraud_Kutch, Hermiston and Farrell",
         "gas_transport",
         "45.0",
         "Jeremy",
         "White",
         "M",
         "9443 Cynthia Court Apt. 038",
         "Boulder",
         "MT",
         "59632",
         "46.2306",
         "-112.1138",
         "1939",
         "Patent attorney",
         "1967-01-12",
         "6b849c168bdad6f867558c3793159a81",
         "1325376076",
         "47.034331",
         "-112.561071",
         "0"
        ],
        [
         "4",
         "4",
         "2019-01-01 00:03:06",
         "375534208663984",
         "fraud_Keeling-Crist",
         "misc_pos",
         "41.96",
         "Tyler",
         "Garcia",
         "M",
         "408 Bradley Rest",
         "Doe Hill",
         "VA",
         "24433",
         "38.4207",
         "-79.4629",
         "99",
         "Dance movement psychotherapist",
         "1986-03-28",
         "a41d7549acf90789359a9aa5346dcb46",
         "1325376186",
         "38.674999",
         "-78.632459",
         "0"
        ]
       ],
       "shape": {
        "columns": 23,
        "rows": 5
       }
      },
      "text/html": [
       "<div>\n",
       "<style scoped>\n",
       "    .dataframe tbody tr th:only-of-type {\n",
       "        vertical-align: middle;\n",
       "    }\n",
       "\n",
       "    .dataframe tbody tr th {\n",
       "        vertical-align: top;\n",
       "    }\n",
       "\n",
       "    .dataframe thead th {\n",
       "        text-align: right;\n",
       "    }\n",
       "</style>\n",
       "<table border=\"1\" class=\"dataframe\">\n",
       "  <thead>\n",
       "    <tr style=\"text-align: right;\">\n",
       "      <th></th>\n",
       "      <th>Unnamed: 0</th>\n",
       "      <th>trans_date_trans_time</th>\n",
       "      <th>cc_num</th>\n",
       "      <th>merchant</th>\n",
       "      <th>category</th>\n",
       "      <th>amt</th>\n",
       "      <th>first</th>\n",
       "      <th>last</th>\n",
       "      <th>gender</th>\n",
       "      <th>street</th>\n",
       "      <th>...</th>\n",
       "      <th>lat</th>\n",
       "      <th>long</th>\n",
       "      <th>city_pop</th>\n",
       "      <th>job</th>\n",
       "      <th>dob</th>\n",
       "      <th>trans_num</th>\n",
       "      <th>unix_time</th>\n",
       "      <th>merch_lat</th>\n",
       "      <th>merch_long</th>\n",
       "      <th>is_fraud</th>\n",
       "    </tr>\n",
       "  </thead>\n",
       "  <tbody>\n",
       "    <tr>\n",
       "      <th>0</th>\n",
       "      <td>0</td>\n",
       "      <td>2019-01-01 00:00:18</td>\n",
       "      <td>2703186189652095</td>\n",
       "      <td>fraud_Rippin, Kub and Mann</td>\n",
       "      <td>misc_net</td>\n",
       "      <td>4.97</td>\n",
       "      <td>Jennifer</td>\n",
       "      <td>Banks</td>\n",
       "      <td>F</td>\n",
       "      <td>561 Perry Cove</td>\n",
       "      <td>...</td>\n",
       "      <td>36.0788</td>\n",
       "      <td>-81.1781</td>\n",
       "      <td>3495</td>\n",
       "      <td>Psychologist, counselling</td>\n",
       "      <td>1988-03-09</td>\n",
       "      <td>0b242abb623afc578575680df30655b9</td>\n",
       "      <td>1325376018</td>\n",
       "      <td>36.011293</td>\n",
       "      <td>-82.048315</td>\n",
       "      <td>0</td>\n",
       "    </tr>\n",
       "    <tr>\n",
       "      <th>1</th>\n",
       "      <td>1</td>\n",
       "      <td>2019-01-01 00:00:44</td>\n",
       "      <td>630423337322</td>\n",
       "      <td>fraud_Heller, Gutmann and Zieme</td>\n",
       "      <td>grocery_pos</td>\n",
       "      <td>107.23</td>\n",
       "      <td>Stephanie</td>\n",
       "      <td>Gill</td>\n",
       "      <td>F</td>\n",
       "      <td>43039 Riley Greens Suite 393</td>\n",
       "      <td>...</td>\n",
       "      <td>48.8878</td>\n",
       "      <td>-118.2105</td>\n",
       "      <td>149</td>\n",
       "      <td>Special educational needs teacher</td>\n",
       "      <td>1978-06-21</td>\n",
       "      <td>1f76529f8574734946361c461b024d99</td>\n",
       "      <td>1325376044</td>\n",
       "      <td>49.159047</td>\n",
       "      <td>-118.186462</td>\n",
       "      <td>0</td>\n",
       "    </tr>\n",
       "    <tr>\n",
       "      <th>2</th>\n",
       "      <td>2</td>\n",
       "      <td>2019-01-01 00:00:51</td>\n",
       "      <td>38859492057661</td>\n",
       "      <td>fraud_Lind-Buckridge</td>\n",
       "      <td>entertainment</td>\n",
       "      <td>220.11</td>\n",
       "      <td>Edward</td>\n",
       "      <td>Sanchez</td>\n",
       "      <td>M</td>\n",
       "      <td>594 White Dale Suite 530</td>\n",
       "      <td>...</td>\n",
       "      <td>42.1808</td>\n",
       "      <td>-112.2620</td>\n",
       "      <td>4154</td>\n",
       "      <td>Nature conservation officer</td>\n",
       "      <td>1962-01-19</td>\n",
       "      <td>a1a22d70485983eac12b5b88dad1cf95</td>\n",
       "      <td>1325376051</td>\n",
       "      <td>43.150704</td>\n",
       "      <td>-112.154481</td>\n",
       "      <td>0</td>\n",
       "    </tr>\n",
       "    <tr>\n",
       "      <th>3</th>\n",
       "      <td>3</td>\n",
       "      <td>2019-01-01 00:01:16</td>\n",
       "      <td>3534093764340240</td>\n",
       "      <td>fraud_Kutch, Hermiston and Farrell</td>\n",
       "      <td>gas_transport</td>\n",
       "      <td>45.00</td>\n",
       "      <td>Jeremy</td>\n",
       "      <td>White</td>\n",
       "      <td>M</td>\n",
       "      <td>9443 Cynthia Court Apt. 038</td>\n",
       "      <td>...</td>\n",
       "      <td>46.2306</td>\n",
       "      <td>-112.1138</td>\n",
       "      <td>1939</td>\n",
       "      <td>Patent attorney</td>\n",
       "      <td>1967-01-12</td>\n",
       "      <td>6b849c168bdad6f867558c3793159a81</td>\n",
       "      <td>1325376076</td>\n",
       "      <td>47.034331</td>\n",
       "      <td>-112.561071</td>\n",
       "      <td>0</td>\n",
       "    </tr>\n",
       "    <tr>\n",
       "      <th>4</th>\n",
       "      <td>4</td>\n",
       "      <td>2019-01-01 00:03:06</td>\n",
       "      <td>375534208663984</td>\n",
       "      <td>fraud_Keeling-Crist</td>\n",
       "      <td>misc_pos</td>\n",
       "      <td>41.96</td>\n",
       "      <td>Tyler</td>\n",
       "      <td>Garcia</td>\n",
       "      <td>M</td>\n",
       "      <td>408 Bradley Rest</td>\n",
       "      <td>...</td>\n",
       "      <td>38.4207</td>\n",
       "      <td>-79.4629</td>\n",
       "      <td>99</td>\n",
       "      <td>Dance movement psychotherapist</td>\n",
       "      <td>1986-03-28</td>\n",
       "      <td>a41d7549acf90789359a9aa5346dcb46</td>\n",
       "      <td>1325376186</td>\n",
       "      <td>38.674999</td>\n",
       "      <td>-78.632459</td>\n",
       "      <td>0</td>\n",
       "    </tr>\n",
       "  </tbody>\n",
       "</table>\n",
       "<p>5 rows × 23 columns</p>\n",
       "</div>"
      ],
      "text/plain": [
       "   Unnamed: 0 trans_date_trans_time            cc_num  \\\n",
       "0           0   2019-01-01 00:00:18  2703186189652095   \n",
       "1           1   2019-01-01 00:00:44      630423337322   \n",
       "2           2   2019-01-01 00:00:51    38859492057661   \n",
       "3           3   2019-01-01 00:01:16  3534093764340240   \n",
       "4           4   2019-01-01 00:03:06   375534208663984   \n",
       "\n",
       "                             merchant       category     amt      first  \\\n",
       "0          fraud_Rippin, Kub and Mann       misc_net    4.97   Jennifer   \n",
       "1     fraud_Heller, Gutmann and Zieme    grocery_pos  107.23  Stephanie   \n",
       "2                fraud_Lind-Buckridge  entertainment  220.11     Edward   \n",
       "3  fraud_Kutch, Hermiston and Farrell  gas_transport   45.00     Jeremy   \n",
       "4                 fraud_Keeling-Crist       misc_pos   41.96      Tyler   \n",
       "\n",
       "      last gender                        street  ...      lat      long  \\\n",
       "0    Banks      F                561 Perry Cove  ...  36.0788  -81.1781   \n",
       "1     Gill      F  43039 Riley Greens Suite 393  ...  48.8878 -118.2105   \n",
       "2  Sanchez      M      594 White Dale Suite 530  ...  42.1808 -112.2620   \n",
       "3    White      M   9443 Cynthia Court Apt. 038  ...  46.2306 -112.1138   \n",
       "4   Garcia      M              408 Bradley Rest  ...  38.4207  -79.4629   \n",
       "\n",
       "   city_pop                                job         dob  \\\n",
       "0      3495          Psychologist, counselling  1988-03-09   \n",
       "1       149  Special educational needs teacher  1978-06-21   \n",
       "2      4154        Nature conservation officer  1962-01-19   \n",
       "3      1939                    Patent attorney  1967-01-12   \n",
       "4        99     Dance movement psychotherapist  1986-03-28   \n",
       "\n",
       "                          trans_num   unix_time  merch_lat  merch_long  \\\n",
       "0  0b242abb623afc578575680df30655b9  1325376018  36.011293  -82.048315   \n",
       "1  1f76529f8574734946361c461b024d99  1325376044  49.159047 -118.186462   \n",
       "2  a1a22d70485983eac12b5b88dad1cf95  1325376051  43.150704 -112.154481   \n",
       "3  6b849c168bdad6f867558c3793159a81  1325376076  47.034331 -112.561071   \n",
       "4  a41d7549acf90789359a9aa5346dcb46  1325376186  38.674999  -78.632459   \n",
       "\n",
       "   is_fraud  \n",
       "0         0  \n",
       "1         0  \n",
       "2         0  \n",
       "3         0  \n",
       "4         0  \n",
       "\n",
       "[5 rows x 23 columns]"
      ]
     },
     "execution_count": 37,
     "metadata": {},
     "output_type": "execute_result"
    }
   ],
   "source": [
    "# Load the train and test dataset\n",
    "train_df = pd.read_csv(path + \"/fraudTrain.csv\")\n",
    "test_df = pd.read_csv(path + \"/fraudTest.csv\")\n",
    "\n",
    "# Merge train and test \n",
    "df = pd.concat([train_df, test_df], ignore_index=True)\n",
    "df.head()"
   ]
  },
  {
   "cell_type": "markdown",
   "metadata": {},
   "source": [
    "**About Dataset**: The original dataset was divided into train and test sets with a total number of instances of 1,852,393, which were simulated to contain credit card transactions, including **Legitimate** and **Fraud Transactions** from January 2019 to December 2020.\n",
    "\n",
    "- The dataset contains credit cards of 999 customers, performing transactions over two years with a pool of 693 merchants.\n",
    "\n",
    "- It was generated using the [Sparkov Data Generation | GitHub](https://github.com/namebrandon/Sparkov_Data_Generation) tool created by **Brandon Harris**. The dataset can be found on the Kaggle platform through this [link](https://www.kaggle.com/datasets/kartik2112/fraud-detection).\n",
    "\n",
    "**Dataset Features**\n",
    "\n",
    "| Feature Name            | Description                                                   |\n",
    "|-------------------------|---------------------------------------------------------------|\n",
    "| **trans_date_trans_time** | The date and time of the transaction.                        |\n",
    "| **cc_num**              | Credit card number used for the transaction.                 |\n",
    "| **merchant**            | The merchant where the transaction occurred.                 |\n",
    "| **category**            | The category of the merchant.                                |\n",
    "| **amt**                 | The amount of the transaction.                               |\n",
    "| **first**               | First name of the cardholder.                                |\n",
    "| **last**                | Last name of the cardholder.                                 |\n",
    "| **gender**              | Gender of the cardholder.                                    |\n",
    "| **street**              | Street address of the cardholder.                            |\n",
    "| **city**                | City of the cardholder.                                      |\n",
    "| **state**               | State of the cardholder.                                     |\n",
    "| **zip**                 | ZIP code of the cardholder.                                  |\n",
    "| **lat**                 | Latitude of the cardholder's address.                        |\n",
    "| **long**                | Longitude of the cardholder's address.                       |\n",
    "| **city_pop**            | Population of the city where the cardholder resides.         |\n",
    "| **job**                 | Job title of the cardholder.                                 |\n",
    "| **dob**                 | Date of birth of the cardholder.                             |\n",
    "| **trans_num**           | Unique transaction ID.                                       |\n",
    "| **unix_time**           | Transaction time in Unix format.                             |\n",
    "| **merch_lat**           | Latitude of the merchant's location.                         |\n",
    "| **merch_long**          | Longitude of the merchant's location.                        |\n",
    "| **is_fraud**            | Indicates whether the transaction is fraudulent (1) or legitimate (0). |"
   ]
  },
  {
   "cell_type": "code",
   "execution_count": 38,
   "metadata": {},
   "outputs": [],
   "source": [
    "# Drop \"Unnamed: 0\" column\n",
    "df.drop(columns=[\"Unnamed: 0\"], inplace=True)"
   ]
  },
  {
   "cell_type": "markdown",
   "metadata": {},
   "source": [
    "## **Data Understanding**"
   ]
  },
  {
   "cell_type": "code",
   "execution_count": 39,
   "metadata": {},
   "outputs": [
    {
     "name": "stdout",
     "output_type": "stream",
     "text": [
      "<class 'pandas.core.frame.DataFrame'>\n",
      "RangeIndex: 1852394 entries, 0 to 1852393\n",
      "Data columns (total 22 columns):\n",
      " #   Column                 Dtype  \n",
      "---  ------                 -----  \n",
      " 0   trans_date_trans_time  object \n",
      " 1   cc_num                 int64  \n",
      " 2   merchant               object \n",
      " 3   category               object \n",
      " 4   amt                    float64\n",
      " 5   first                  object \n",
      " 6   last                   object \n",
      " 7   gender                 object \n",
      " 8   street                 object \n",
      " 9   city                   object \n",
      " 10  state                  object \n",
      " 11  zip                    int64  \n",
      " 12  lat                    float64\n",
      " 13  long                   float64\n",
      " 14  city_pop               int64  \n",
      " 15  job                    object \n",
      " 16  dob                    object \n",
      " 17  trans_num              object \n",
      " 18  unix_time              int64  \n",
      " 19  merch_lat              float64\n",
      " 20  merch_long             float64\n",
      " 21  is_fraud               int64  \n",
      "dtypes: float64(5), int64(5), object(12)\n",
      "memory usage: 310.9+ MB\n"
     ]
    }
   ],
   "source": [
    "# Check for basic information\n",
    "df.info()"
   ]
  },
  {
   "cell_type": "markdown",
   "metadata": {},
   "source": [
    "**Findings**: Base on the information about the dataset above, we need to change the data types of some features to be in the correct format and rename the columns to make them more informative and easy to understand."
   ]
  },
  {
   "cell_type": "code",
   "execution_count": 40,
   "metadata": {},
   "outputs": [
    {
     "name": "stdout",
     "output_type": "stream",
     "text": [
      "Number of rows in the dataset: 1852394\n",
      "Number of columns in the dataset: 22\n"
     ]
    }
   ],
   "source": [
    "# Check shape of the dataset\n",
    "print(f\"Number of rows in the dataset: {df.shape[0]}\")\n",
    "print(f\"Number of columns in the dataset: {df.shape[1]}\")"
   ]
  },
  {
   "cell_type": "markdown",
   "metadata": {},
   "source": [
    "**Findings**: The train and test dataset combined together contains nearly 1.9 Million Records of Transactions with 21 feature columns and 1 target variable. "
   ]
  },
  {
   "cell_type": "code",
   "execution_count": 41,
   "metadata": {},
   "outputs": [
    {
     "data": {
      "image/png": "[encoded data removed]",
      "text/plain": [
       "<Figure size 2500x1000 with 2 Axes>"
      ]
     },
     "metadata": {},
     "output_type": "display_data"
    }
   ],
   "source": [
    "# Check for missing values \n",
    "msno.matrix(df)\n",
    "plt.show()"
   ]
  },
  {
   "cell_type": "code",
   "execution_count": 42,
   "metadata": {},
   "outputs": [
    {
     "data": {
      "text/plain": [
       "0"
      ]
     },
     "execution_count": 42,
     "metadata": {},
     "output_type": "execute_result"
    }
   ],
   "source": [
    "# Check for duplications\n",
    "df.duplicated().sum()"
   ]
  },
  {
   "cell_type": "markdown",
   "metadata": {},
   "source": [
    "**Findings**: There are no missing values within the dataset and no duplicated rows as well, which means that the dataset is already clean, and there is no need to do imputation to fill missing values."
   ]
  },
  {
   "cell_type": "code",
   "execution_count": 43,
   "metadata": {},
   "outputs": [
    {
     "data": {
      "application/vnd.microsoft.datawrangler.viewer.v0+json": {
       "columns": [
        {
         "name": "is_fraud",
         "rawType": "int64",
         "type": "integer"
        },
        {
         "name": "count",
         "rawType": "int64",
         "type": "integer"
        },
        {
         "name": "percentage",
         "rawType": "float64",
         "type": "float"
        }
       ],
       "ref": "a9191506-6446-4f30-9509-f77f2d68d474",
       "rows": [
        [
         "0",
         "1842743",
         "99.48"
        ],
        [
         "1",
         "9651",
         "0.52"
        ]
       ],
       "shape": {
        "columns": 2,
        "rows": 2
       }
      },
      "text/html": [
       "<div>\n",
       "<style scoped>\n",
       "    .dataframe tbody tr th:only-of-type {\n",
       "        vertical-align: middle;\n",
       "    }\n",
       "\n",
       "    .dataframe tbody tr th {\n",
       "        vertical-align: top;\n",
       "    }\n",
       "\n",
       "    .dataframe thead th {\n",
       "        text-align: right;\n",
       "    }\n",
       "</style>\n",
       "<table border=\"1\" class=\"dataframe\">\n",
       "  <thead>\n",
       "    <tr style=\"text-align: right;\">\n",
       "      <th></th>\n",
       "      <th>count</th>\n",
       "      <th>percentage</th>\n",
       "    </tr>\n",
       "    <tr>\n",
       "      <th>is_fraud</th>\n",
       "      <th></th>\n",
       "      <th></th>\n",
       "    </tr>\n",
       "  </thead>\n",
       "  <tbody>\n",
       "    <tr>\n",
       "      <th>0</th>\n",
       "      <td>1842743</td>\n",
       "      <td>99.48</td>\n",
       "    </tr>\n",
       "    <tr>\n",
       "      <th>1</th>\n",
       "      <td>9651</td>\n",
       "      <td>0.52</td>\n",
       "    </tr>\n",
       "  </tbody>\n",
       "</table>\n",
       "</div>"
      ],
      "text/plain": [
       "            count  percentage\n",
       "is_fraud                     \n",
       "0         1842743       99.48\n",
       "1            9651        0.52"
      ]
     },
     "execution_count": 43,
     "metadata": {},
     "output_type": "execute_result"
    }
   ],
   "source": [
    "# Check fraud distribution \n",
    "count_fraud = df[\"is_fraud\"].value_counts()\n",
    "count_fraud = count_fraud.to_frame(name=\"count\")\n",
    "count_fraud[\"percentage\"] = np.round(count_fraud[\"count\"] / count_fraud[\"count\"].sum() * 100, 2)\n",
    "count_fraud"
   ]
  },
  {
   "cell_type": "markdown",
   "metadata": {},
   "source": [
    "**Findings**: It is already known that dataset like credit card fraud detection dataset is highly imbalanced as the majority of the transactions are normal transactions and very low numbers of fraud transactions. In this dataset, we can see that the normal transactions are **99.48%** and fraud transactions are **0.52%** which are **1,842,743** and **9651** transactions respectively."
   ]
  },
  {
   "cell_type": "markdown",
   "metadata": {},
   "source": [
    "## **Data Cleaning**\n",
    "\n",
    "After getting to understand a bit about the dataset that we are going to use to predict the credit card fraud transactions, we will start cleaning and preparing the dataset to make it more informative and ready to be used for analysi to gain deeper insights into the patterns of fraud and normal transactions. In this **Data Cleaning** step, we are going to:\n",
    "\n",
    "- Rename the columns to make it more understandable and informative. \n",
    "\n",
    "- Change data types of the columns to be in the correct format for analysis.\n",
    "\n",
    "- Create new column by combining the original columns together, reducing the number of unnecessary columns. \n",
    "\n",
    "- Remove the prefix of **merchant** column as the original data contains **fraud_** in front of merchant names."
   ]
  },
  {
   "cell_type": "code",
   "execution_count": 44,
   "metadata": {},
   "outputs": [],
   "source": [
    "# Rename column names \n",
    "df = df.rename(columns={\"trans_date_trans_time\": \"transaction_time\",\n",
    "                        \"cc_num\": \"credit_card_number\",\n",
    "                        \"amt\": \"transaction_amount\",\n",
    "                        \"first\": \"first_name\",\n",
    "                        \"last\": \"last_name\",\n",
    "                        \"city_pop\": \"city_population\",\n",
    "                        \"dob\": \"date_of_birth\",\n",
    "                        \"lat\": \"latitude\",\n",
    "                        \"long\": \"longitude\",\n",
    "                        \"trans_num\": \"transaction_number\",\n",
    "                        \"merch_lat\": \"merchant_latitude\",\n",
    "                        \"merch_long\": \"merchant_longitude\"})"
   ]
  },
  {
   "cell_type": "code",
   "execution_count": 45,
   "metadata": {},
   "outputs": [],
   "source": [
    "# Change data types to the appropriate ones\n",
    "df[\"transaction_time\"] = pd.to_datetime(df[\"transaction_time\"])\n",
    "df[\"credit_card_number\"] = df[\"credit_card_number\"].astype(str)\n",
    "df[\"zip\"] = df[\"zip\"].astype(str)\n",
    "df[\"date_of_birth\"] = pd.to_datetime(df[\"date_of_birth\"])"
   ]
  },
  {
   "cell_type": "code",
   "execution_count": 46,
   "metadata": {},
   "outputs": [],
   "source": [
    "# Create full name column \n",
    "df[\"full_name\"] = df[\"first_name\"] + \" \" + df[\"last_name\"]\n",
    "\n",
    "# Create age column\n",
    "df[\"age\"] = df[\"transaction_time\"].dt.year - df[\"date_of_birth\"].dt.year\n",
    "\n",
    "# Create transaction location \n",
    "df[\"transaction_location\"] = df[\"longitude\"].astype(str) + \", \" + df[\"latitude\"].astype(str)\n",
    "\n",
    "# Create merchange location\n",
    "df[\"merchant_location\"] = df[\"merchant_longitude\"].astype(str) + \", \" + df[\"merchant_latitude\"].astype(str)"
   ]
  },
  {
   "cell_type": "code",
   "execution_count": 47,
   "metadata": {},
   "outputs": [],
   "source": [
    "# Drop columns that are not needed for analysis\n",
    "dropped_columns = [\"unix_time\", \"first_name\", \"last_name\", \"date_of_birth\", \n",
    "                   \"merchant_latitude\", \"merchant_longitude\", \"longitude\", \"latitude\"]\n",
    "df.drop(columns=dropped_columns, inplace=True)"
   ]
  },
  {
   "cell_type": "code",
   "execution_count": 48,
   "metadata": {},
   "outputs": [],
   "source": [
    "# Clean merchant name \n",
    "df[\"merchant\"] = df[\"merchant\"].str.removeprefix(\"fraud_\")"
   ]
  },
  {
   "cell_type": "code",
   "execution_count": 49,
   "metadata": {},
   "outputs": [
    {
     "data": {
      "application/vnd.microsoft.datawrangler.viewer.v0+json": {
       "columns": [
        {
         "name": "index",
         "rawType": "int64",
         "type": "integer"
        },
        {
         "name": "transaction_time",
         "rawType": "datetime64[ns]",
         "type": "datetime"
        },
        {
         "name": "credit_card_number",
         "rawType": "object",
         "type": "string"
        },
        {
         "name": "merchant",
         "rawType": "object",
         "type": "string"
        },
        {
         "name": "category",
         "rawType": "object",
         "type": "string"
        },
        {
         "name": "transaction_amount",
         "rawType": "float64",
         "type": "float"
        },
        {
         "name": "gender",
         "rawType": "object",
         "type": "string"
        },
        {
         "name": "street",
         "rawType": "object",
         "type": "string"
        },
        {
         "name": "city",
         "rawType": "object",
         "type": "string"
        },
        {
         "name": "state",
         "rawType": "object",
         "type": "string"
        },
        {
         "name": "zip",
         "rawType": "object",
         "type": "string"
        },
        {
         "name": "city_population",
         "rawType": "int64",
         "type": "integer"
        },
        {
         "name": "job",
         "rawType": "object",
         "type": "string"
        },
        {
         "name": "transaction_number",
         "rawType": "object",
         "type": "string"
        },
        {
         "name": "is_fraud",
         "rawType": "int64",
         "type": "integer"
        },
        {
         "name": "full_name",
         "rawType": "object",
         "type": "string"
        },
        {
         "name": "age",
         "rawType": "int32",
         "type": "integer"
        },
        {
         "name": "transaction_location",
         "rawType": "object",
         "type": "string"
        },
        {
         "name": "merchant_location",
         "rawType": "object",
         "type": "string"
        }
       ],
       "ref": "b7895ec1-3802-4db5-bd5f-f504a4cf2188",
       "rows": [
        [
         "0",
         "2019-01-01 00:00:18",
         "2703186189652095",
         "Rippin, Kub and Mann",
         "misc_net",
         "4.97",
         "F",
         "561 Perry Cove",
         "Moravian Falls",
         "NC",
         "28654",
         "3495",
         "Psychologist, counselling",
         "0b242abb623afc578575680df30655b9",
         "0",
         "Jennifer Banks",
         "31",
         "-81.1781, 36.0788",
         "-82.048315, 36.011293"
        ],
        [
         "1",
         "2019-01-01 00:00:44",
         "630423337322",
         "Heller, Gutmann and Zieme",
         "grocery_pos",
         "107.23",
         "F",
         "43039 Riley Greens Suite 393",
         "Orient",
         "WA",
         "99160",
         "149",
         "Special educational needs teacher",
         "1f76529f8574734946361c461b024d99",
         "0",
         "Stephanie Gill",
         "41",
         "-118.2105, 48.8878",
         "-118.186462, 49.159046999999994"
        ],
        [
         "2",
         "2019-01-01 00:00:51",
         "38859492057661",
         "Lind-Buckridge",
         "entertainment",
         "220.11",
         "M",
         "594 White Dale Suite 530",
         "Malad City",
         "ID",
         "83252",
         "4154",
         "Nature conservation officer",
         "a1a22d70485983eac12b5b88dad1cf95",
         "0",
         "Edward Sanchez",
         "57",
         "-112.262, 42.1808",
         "-112.154481, 43.150704"
        ],
        [
         "3",
         "2019-01-01 00:01:16",
         "3534093764340240",
         "Kutch, Hermiston and Farrell",
         "gas_transport",
         "45.0",
         "M",
         "9443 Cynthia Court Apt. 038",
         "Boulder",
         "MT",
         "59632",
         "1939",
         "Patent attorney",
         "6b849c168bdad6f867558c3793159a81",
         "0",
         "Jeremy White",
         "52",
         "-112.1138, 46.2306",
         "-112.561071, 47.034331"
        ],
        [
         "4",
         "2019-01-01 00:03:06",
         "375534208663984",
         "Keeling-Crist",
         "misc_pos",
         "41.96",
         "M",
         "408 Bradley Rest",
         "Doe Hill",
         "VA",
         "24433",
         "99",
         "Dance movement psychotherapist",
         "a41d7549acf90789359a9aa5346dcb46",
         "0",
         "Tyler Garcia",
         "33",
         "-79.4629, 38.4207",
         "-78.632459, 38.674999"
        ]
       ],
       "shape": {
        "columns": 18,
        "rows": 5
       }
      },
      "text/html": [
       "<div>\n",
       "<style scoped>\n",
       "    .dataframe tbody tr th:only-of-type {\n",
       "        vertical-align: middle;\n",
       "    }\n",
       "\n",
       "    .dataframe tbody tr th {\n",
       "        vertical-align: top;\n",
       "    }\n",
       "\n",
       "    .dataframe thead th {\n",
       "        text-align: right;\n",
       "    }\n",
       "</style>\n",
       "<table border=\"1\" class=\"dataframe\">\n",
       "  <thead>\n",
       "    <tr style=\"text-align: right;\">\n",
       "      <th></th>\n",
       "      <th>transaction_time</th>\n",
       "      <th>credit_card_number</th>\n",
       "      <th>merchant</th>\n",
       "      <th>category</th>\n",
       "      <th>transaction_amount</th>\n",
       "      <th>gender</th>\n",
       "      <th>street</th>\n",
       "      <th>city</th>\n",
       "      <th>state</th>\n",
       "      <th>zip</th>\n",
       "      <th>city_population</th>\n",
       "      <th>job</th>\n",
       "      <th>transaction_number</th>\n",
       "      <th>is_fraud</th>\n",
       "      <th>full_name</th>\n",
       "      <th>age</th>\n",
       "      <th>transaction_location</th>\n",
       "      <th>merchant_location</th>\n",
       "    </tr>\n",
       "  </thead>\n",
       "  <tbody>\n",
       "    <tr>\n",
       "      <th>0</th>\n",
       "      <td>2019-01-01 00:00:18</td>\n",
       "      <td>2703186189652095</td>\n",
       "      <td>Rippin, Kub and Mann</td>\n",
       "      <td>misc_net</td>\n",
       "      <td>4.97</td>\n",
       "      <td>F</td>\n",
       "      <td>561 Perry Cove</td>\n",
       "      <td>Moravian Falls</td>\n",
       "      <td>NC</td>\n",
       "      <td>28654</td>\n",
       "      <td>3495</td>\n",
       "      <td>Psychologist, counselling</td>\n",
       "      <td>0b242abb623afc578575680df30655b9</td>\n",
       "      <td>0</td>\n",
       "      <td>Jennifer Banks</td>\n",
       "      <td>31</td>\n",
       "      <td>-81.1781, 36.0788</td>\n",
       "      <td>-82.048315, 36.011293</td>\n",
       "    </tr>\n",
       "    <tr>\n",
       "      <th>1</th>\n",
       "      <td>2019-01-01 00:00:44</td>\n",
       "      <td>630423337322</td>\n",
       "      <td>Heller, Gutmann and Zieme</td>\n",
       "      <td>grocery_pos</td>\n",
       "      <td>107.23</td>\n",
       "      <td>F</td>\n",
       "      <td>43039 Riley Greens Suite 393</td>\n",
       "      <td>Orient</td>\n",
       "      <td>WA</td>\n",
       "      <td>99160</td>\n",
       "      <td>149</td>\n",
       "      <td>Special educational needs teacher</td>\n",
       "      <td>1f76529f8574734946361c461b024d99</td>\n",
       "      <td>0</td>\n",
       "      <td>Stephanie Gill</td>\n",
       "      <td>41</td>\n",
       "      <td>-118.2105, 48.8878</td>\n",
       "      <td>-118.186462, 49.159046999999994</td>\n",
       "    </tr>\n",
       "    <tr>\n",
       "      <th>2</th>\n",
       "      <td>2019-01-01 00:00:51</td>\n",
       "      <td>38859492057661</td>\n",
       "      <td>Lind-Buckridge</td>\n",
       "      <td>entertainment</td>\n",
       "      <td>220.11</td>\n",
       "      <td>M</td>\n",
       "      <td>594 White Dale Suite 530</td>\n",
       "      <td>Malad City</td>\n",
       "      <td>ID</td>\n",
       "      <td>83252</td>\n",
       "      <td>4154</td>\n",
       "      <td>Nature conservation officer</td>\n",
       "      <td>a1a22d70485983eac12b5b88dad1cf95</td>\n",
       "      <td>0</td>\n",
       "      <td>Edward Sanchez</td>\n",
       "      <td>57</td>\n",
       "      <td>-112.262, 42.1808</td>\n",
       "      <td>-112.154481, 43.150704</td>\n",
       "    </tr>\n",
       "    <tr>\n",
       "      <th>3</th>\n",
       "      <td>2019-01-01 00:01:16</td>\n",
       "      <td>3534093764340240</td>\n",
       "      <td>Kutch, Hermiston and Farrell</td>\n",
       "      <td>gas_transport</td>\n",
       "      <td>45.00</td>\n",
       "      <td>M</td>\n",
       "      <td>9443 Cynthia Court Apt. 038</td>\n",
       "      <td>Boulder</td>\n",
       "      <td>MT</td>\n",
       "      <td>59632</td>\n",
       "      <td>1939</td>\n",
       "      <td>Patent attorney</td>\n",
       "      <td>6b849c168bdad6f867558c3793159a81</td>\n",
       "      <td>0</td>\n",
       "      <td>Jeremy White</td>\n",
       "      <td>52</td>\n",
       "      <td>-112.1138, 46.2306</td>\n",
       "      <td>-112.561071, 47.034331</td>\n",
       "    </tr>\n",
       "    <tr>\n",
       "      <th>4</th>\n",
       "      <td>2019-01-01 00:03:06</td>\n",
       "      <td>375534208663984</td>\n",
       "      <td>Keeling-Crist</td>\n",
       "      <td>misc_pos</td>\n",
       "      <td>41.96</td>\n",
       "      <td>M</td>\n",
       "      <td>408 Bradley Rest</td>\n",
       "      <td>Doe Hill</td>\n",
       "      <td>VA</td>\n",
       "      <td>24433</td>\n",
       "      <td>99</td>\n",
       "      <td>Dance movement psychotherapist</td>\n",
       "      <td>a41d7549acf90789359a9aa5346dcb46</td>\n",
       "      <td>0</td>\n",
       "      <td>Tyler Garcia</td>\n",
       "      <td>33</td>\n",
       "      <td>-79.4629, 38.4207</td>\n",
       "      <td>-78.632459, 38.674999</td>\n",
       "    </tr>\n",
       "  </tbody>\n",
       "</table>\n",
       "</div>"
      ],
      "text/plain": [
       "     transaction_time credit_card_number                      merchant  \\\n",
       "0 2019-01-01 00:00:18   2703186189652095          Rippin, Kub and Mann   \n",
       "1 2019-01-01 00:00:44       630423337322     Heller, Gutmann and Zieme   \n",
       "2 2019-01-01 00:00:51     38859492057661                Lind-Buckridge   \n",
       "3 2019-01-01 00:01:16   3534093764340240  Kutch, Hermiston and Farrell   \n",
       "4 2019-01-01 00:03:06    375534208663984                 Keeling-Crist   \n",
       "\n",
       "        category  transaction_amount gender                        street  \\\n",
       "0       misc_net                4.97      F                561 Perry Cove   \n",
       "1    grocery_pos              107.23      F  43039 Riley Greens Suite 393   \n",
       "2  entertainment              220.11      M      594 White Dale Suite 530   \n",
       "3  gas_transport               45.00      M   9443 Cynthia Court Apt. 038   \n",
       "4       misc_pos               41.96      M              408 Bradley Rest   \n",
       "\n",
       "             city state    zip  city_population  \\\n",
       "0  Moravian Falls    NC  28654             3495   \n",
       "1          Orient    WA  99160              149   \n",
       "2      Malad City    ID  83252             4154   \n",
       "3         Boulder    MT  59632             1939   \n",
       "4        Doe Hill    VA  24433               99   \n",
       "\n",
       "                                 job                transaction_number  \\\n",
       "0          Psychologist, counselling  0b242abb623afc578575680df30655b9   \n",
       "1  Special educational needs teacher  1f76529f8574734946361c461b024d99   \n",
       "2        Nature conservation officer  a1a22d70485983eac12b5b88dad1cf95   \n",
       "3                    Patent attorney  6b849c168bdad6f867558c3793159a81   \n",
       "4     Dance movement psychotherapist  a41d7549acf90789359a9aa5346dcb46   \n",
       "\n",
       "   is_fraud       full_name  age transaction_location  \\\n",
       "0         0  Jennifer Banks   31    -81.1781, 36.0788   \n",
       "1         0  Stephanie Gill   41   -118.2105, 48.8878   \n",
       "2         0  Edward Sanchez   57    -112.262, 42.1808   \n",
       "3         0    Jeremy White   52   -112.1138, 46.2306   \n",
       "4         0    Tyler Garcia   33    -79.4629, 38.4207   \n",
       "\n",
       "                 merchant_location  \n",
       "0            -82.048315, 36.011293  \n",
       "1  -118.186462, 49.159046999999994  \n",
       "2           -112.154481, 43.150704  \n",
       "3           -112.561071, 47.034331  \n",
       "4            -78.632459, 38.674999  "
      ]
     },
     "execution_count": 49,
     "metadata": {},
     "output_type": "execute_result"
    }
   ],
   "source": [
    "# Check the updated dataframe\n",
    "df.head()"
   ]
  },
  {
   "cell_type": "markdown",
   "metadata": {},
   "source": [
    "## **Exploratory Data Analysis**\n",
    "\n",
    "In this step, we are going to explore in deep about the dataset to gain insights and patterns of the data. We are going to identify which features that can lead to fraud transactions by understanding the patterns and characteristics of normal and fraud transactions. \n",
    "\n",
    "- Get an overview of statistic values of the dataset from numerical and categorical features. \n",
    "\n",
    "- Understand the relationship between fraud and transaction amount, transaction time, merchant category or name. \n",
    "\n",
    "    - Are frauds mostly small or large amounts?\n",
    "\n",
    "    - Any obvious outliers or suspicous spikes in eash card holder?\n",
    "\n",
    "    - Do fraud mostly happen at younger ages or older ages?\n",
    "\n",
    "    - Do fraud cluster at certain hours? \n",
    "\n",
    "    - What are the temporal fraud patterns? \n",
    "\n",
    "    - Are certain merchants frequently involved in fraud?\n",
    "\n",
    "- Understand the relationship between fraud and transaction locations and merchant locations\n",
    "\n",
    "    - Do fraud happen when the transactions and merchant distant far from each other?\n",
    "\n",
    "    - Where do the fraud happen the most, at which locations? \n",
    "\n",
    "- Understand the behavioral pattenrs per user and merchant\n",
    "\n",
    "    - How many transactions does each user did per day? Any spikes of number transaction?\n",
    "\n",
    "    - What are the time between transactions? Were there frequent transactions in short time? \n",
    "\n",
    "    - Are there any high transactions over short period of time in certain merchant?\n"
   ]
  },
  {
   "cell_type": "code",
   "execution_count": 50,
   "metadata": {},
   "outputs": [
    {
     "data": {
      "application/vnd.microsoft.datawrangler.viewer.v0+json": {
       "columns": [
        {
         "name": "index",
         "rawType": "object",
         "type": "string"
        },
        {
         "name": "count",
         "rawType": "object",
         "type": "unknown"
        },
        {
         "name": "mean",
         "rawType": "object",
         "type": "unknown"
        },
        {
         "name": "min",
         "rawType": "object",
         "type": "unknown"
        },
        {
         "name": "25%",
         "rawType": "object",
         "type": "unknown"
        },
        {
         "name": "50%",
         "rawType": "object",
         "type": "unknown"
        },
        {
         "name": "75%",
         "rawType": "object",
         "type": "unknown"
        },
        {
         "name": "max",
         "rawType": "object",
         "type": "unknown"
        },
        {
         "name": "std",
         "rawType": "object",
         "type": "unknown"
        }
       ],
       "ref": "21fc7609-f55a-4850-a3ca-3e5a75593c40",
       "rows": [
        [
         "transaction_time",
         "1852394",
         "2020-01-20 21:31:46.801827328",
         "2019-01-01 00:00:18",
         "2019-07-23 04:13:43.750000128",
         "2020-01-02 01:15:31",
         "2020-07-23 12:11:25.249999872",
         "2020-12-31 23:59:34",
         null
        ],
        [
         "transaction_amount",
         "1852394.0",
         "70.06356747538595",
         "1.0",
         "9.64",
         "47.45",
         "83.1",
         "28948.9",
         "159.25397477396325"
        ],
        [
         "city_population",
         "1852394.0",
         "88643.67450931066",
         "23.0",
         "741.0",
         "2443.0",
         "20328.0",
         "2906700.0",
         "301487.61834357795"
        ],
        [
         "is_fraud",
         "1852394.0",
         "0.005210014716091717",
         "0.0",
         "0.0",
         "0.0",
         "0.0",
         "1.0",
         "0.07199217499528407"
        ],
        [
         "age",
         "1852394.0",
         "46.211379976398106",
         "14.0",
         "33.0",
         "44.0",
         "57.0",
         "96.0",
         "17.39544606101975"
        ]
       ],
       "shape": {
        "columns": 8,
        "rows": 5
       }
      },
      "text/html": [
       "<div>\n",
       "<style scoped>\n",
       "    .dataframe tbody tr th:only-of-type {\n",
       "        vertical-align: middle;\n",
       "    }\n",
       "\n",
       "    .dataframe tbody tr th {\n",
       "        vertical-align: top;\n",
       "    }\n",
       "\n",
       "    .dataframe thead th {\n",
       "        text-align: right;\n",
       "    }\n",
       "</style>\n",
       "<table border=\"1\" class=\"dataframe\">\n",
       "  <thead>\n",
       "    <tr style=\"text-align: right;\">\n",
       "      <th></th>\n",
       "      <th>count</th>\n",
       "      <th>mean</th>\n",
       "      <th>min</th>\n",
       "      <th>25%</th>\n",
       "      <th>50%</th>\n",
       "      <th>75%</th>\n",
       "      <th>max</th>\n",
       "      <th>std</th>\n",
       "    </tr>\n",
       "  </thead>\n",
       "  <tbody>\n",
       "    <tr>\n",
       "      <th>transaction_time</th>\n",
       "      <td>1852394</td>\n",
       "      <td>2020-01-20 21:31:46.801827328</td>\n",
       "      <td>2019-01-01 00:00:18</td>\n",
       "      <td>2019-07-23 04:13:43.750000128</td>\n",
       "      <td>2020-01-02 01:15:31</td>\n",
       "      <td>2020-07-23 12:11:25.249999872</td>\n",
       "      <td>2020-12-31 23:59:34</td>\n",
       "      <td>NaN</td>\n",
       "    </tr>\n",
       "    <tr>\n",
       "      <th>transaction_amount</th>\n",
       "      <td>1852394.0</td>\n",
       "      <td>70.063567</td>\n",
       "      <td>1.0</td>\n",
       "      <td>9.64</td>\n",
       "      <td>47.45</td>\n",
       "      <td>83.1</td>\n",
       "      <td>28948.9</td>\n",
       "      <td>159.253975</td>\n",
       "    </tr>\n",
       "    <tr>\n",
       "      <th>city_population</th>\n",
       "      <td>1852394.0</td>\n",
       "      <td>88643.674509</td>\n",
       "      <td>23.0</td>\n",
       "      <td>741.0</td>\n",
       "      <td>2443.0</td>\n",
       "      <td>20328.0</td>\n",
       "      <td>2906700.0</td>\n",
       "      <td>301487.618344</td>\n",
       "    </tr>\n",
       "    <tr>\n",
       "      <th>is_fraud</th>\n",
       "      <td>1852394.0</td>\n",
       "      <td>0.00521</td>\n",
       "      <td>0.0</td>\n",
       "      <td>0.0</td>\n",
       "      <td>0.0</td>\n",
       "      <td>0.0</td>\n",
       "      <td>1.0</td>\n",
       "      <td>0.071992</td>\n",
       "    </tr>\n",
       "    <tr>\n",
       "      <th>age</th>\n",
       "      <td>1852394.0</td>\n",
       "      <td>46.21138</td>\n",
       "      <td>14.0</td>\n",
       "      <td>33.0</td>\n",
       "      <td>44.0</td>\n",
       "      <td>57.0</td>\n",
       "      <td>96.0</td>\n",
       "      <td>17.395446</td>\n",
       "    </tr>\n",
       "  </tbody>\n",
       "</table>\n",
       "</div>"
      ],
      "text/plain": [
       "                        count                           mean  \\\n",
       "transaction_time      1852394  2020-01-20 21:31:46.801827328   \n",
       "transaction_amount  1852394.0                      70.063567   \n",
       "city_population     1852394.0                   88643.674509   \n",
       "is_fraud            1852394.0                        0.00521   \n",
       "age                 1852394.0                       46.21138   \n",
       "\n",
       "                                    min                            25%  \\\n",
       "transaction_time    2019-01-01 00:00:18  2019-07-23 04:13:43.750000128   \n",
       "transaction_amount                  1.0                           9.64   \n",
       "city_population                    23.0                          741.0   \n",
       "is_fraud                            0.0                            0.0   \n",
       "age                                14.0                           33.0   \n",
       "\n",
       "                                    50%                            75%  \\\n",
       "transaction_time    2020-01-02 01:15:31  2020-07-23 12:11:25.249999872   \n",
       "transaction_amount                47.45                           83.1   \n",
       "city_population                  2443.0                        20328.0   \n",
       "is_fraud                            0.0                            0.0   \n",
       "age                                44.0                           57.0   \n",
       "\n",
       "                                    max            std  \n",
       "transaction_time    2020-12-31 23:59:34            NaN  \n",
       "transaction_amount              28948.9     159.253975  \n",
       "city_population               2906700.0  301487.618344  \n",
       "is_fraud                            1.0       0.071992  \n",
       "age                                96.0      17.395446  "
      ]
     },
     "execution_count": 50,
     "metadata": {},
     "output_type": "execute_result"
    }
   ],
   "source": [
    "# Statistical overview of numerical features\n",
    "df.describe().T"
   ]
  },
  {
   "cell_type": "markdown",
   "metadata": {},
   "source": [
    "**Findings**: According to the statistical table above about numerical features, we have found that:\n",
    "\n",
    "- `transaction_amount`: The average transaction amount is about 70$ with a minimum value of 1$ and 75% of the amounts are below 83$. The maximum transaction amount is about 29,000$ which can indicate outliers in this case with a right-skewed distribution (data points mostly left side).\n",
    "\n",
    "- `city_population`: The average population in city is around 89,000 people with a minimum value of 23 people to maximum value of 2,906,700 people, indicating outliers and right-skewed distribution. \n",
    "\n",
    "- `age`: The average age of credit card holder is 46 years old with a minimum age of 14 yeras old and maximum of 96 years old. This means that mostly, they are working adult. "
   ]
  },
  {
   "cell_type": "code",
   "execution_count": 51,
   "metadata": {},
   "outputs": [
    {
     "data": {
      "application/vnd.microsoft.datawrangler.viewer.v0+json": {
       "columns": [
        {
         "name": "index",
         "rawType": "object",
         "type": "string"
        },
        {
         "name": "count",
         "rawType": "object",
         "type": "unknown"
        },
        {
         "name": "unique",
         "rawType": "object",
         "type": "unknown"
        },
        {
         "name": "top",
         "rawType": "object",
         "type": "string"
        },
        {
         "name": "freq",
         "rawType": "object",
         "type": "unknown"
        }
       ],
       "ref": "da22ee60-2281-4478-9dd9-e70e20191cb9",
       "rows": [
        [
         "credit_card_number",
         "1852394",
         "999",
         "6538441737335434",
         "4392"
        ],
        [
         "merchant",
         "1852394",
         "693",
         "Kilback LLC",
         "6262"
        ],
        [
         "category",
         "1852394",
         "14",
         "gas_transport",
         "188029"
        ],
        [
         "gender",
         "1852394",
         "2",
         "F",
         "1014749"
        ],
        [
         "street",
         "1852394",
         "999",
         "444 Robert Mews",
         "4392"
        ],
        [
         "city",
         "1852394",
         "906",
         "Birmingham",
         "8040"
        ],
        [
         "state",
         "1852394",
         "51",
         "TX",
         "135269"
        ],
        [
         "zip",
         "1852394",
         "985",
         "82514",
         "5116"
        ],
        [
         "job",
         "1852394",
         "497",
         "Film/video editor",
         "13898"
        ],
        [
         "transaction_number",
         "1852394",
         "1852394",
         "0b242abb623afc578575680df30655b9",
         "1"
        ],
        [
         "full_name",
         "1852394",
         "989",
         "Scott Martin",
         "6583"
        ],
        [
         "transaction_location",
         "1852394",
         "985",
         "-108.8964, 43.0048",
         "5116"
        ],
        [
         "merchant_location",
         "1852394",
         "1852394",
         "-82.048315, 36.011293",
         "1"
        ]
       ],
       "shape": {
        "columns": 4,
        "rows": 13
       }
      },
      "text/html": [
       "<div>\n",
       "<style scoped>\n",
       "    .dataframe tbody tr th:only-of-type {\n",
       "        vertical-align: middle;\n",
       "    }\n",
       "\n",
       "    .dataframe tbody tr th {\n",
       "        vertical-align: top;\n",
       "    }\n",
       "\n",
       "    .dataframe thead th {\n",
       "        text-align: right;\n",
       "    }\n",
       "</style>\n",
       "<table border=\"1\" class=\"dataframe\">\n",
       "  <thead>\n",
       "    <tr style=\"text-align: right;\">\n",
       "      <th></th>\n",
       "      <th>count</th>\n",
       "      <th>unique</th>\n",
       "      <th>top</th>\n",
       "      <th>freq</th>\n",
       "    </tr>\n",
       "  </thead>\n",
       "  <tbody>\n",
       "    <tr>\n",
       "      <th>credit_card_number</th>\n",
       "      <td>1852394</td>\n",
       "      <td>999</td>\n",
       "      <td>6538441737335434</td>\n",
       "      <td>4392</td>\n",
       "    </tr>\n",
       "    <tr>\n",
       "      <th>merchant</th>\n",
       "      <td>1852394</td>\n",
       "      <td>693</td>\n",
       "      <td>Kilback LLC</td>\n",
       "      <td>6262</td>\n",
       "    </tr>\n",
       "    <tr>\n",
       "      <th>category</th>\n",
       "      <td>1852394</td>\n",
       "      <td>14</td>\n",
       "      <td>gas_transport</td>\n",
       "      <td>188029</td>\n",
       "    </tr>\n",
       "    <tr>\n",
       "      <th>gender</th>\n",
       "      <td>1852394</td>\n",
       "      <td>2</td>\n",
       "      <td>F</td>\n",
       "      <td>1014749</td>\n",
       "    </tr>\n",
       "    <tr>\n",
       "      <th>street</th>\n",
       "      <td>1852394</td>\n",
       "      <td>999</td>\n",
       "      <td>444 Robert Mews</td>\n",
       "      <td>4392</td>\n",
       "    </tr>\n",
       "    <tr>\n",
       "      <th>city</th>\n",
       "      <td>1852394</td>\n",
       "      <td>906</td>\n",
       "      <td>Birmingham</td>\n",
       "      <td>8040</td>\n",
       "    </tr>\n",
       "    <tr>\n",
       "      <th>state</th>\n",
       "      <td>1852394</td>\n",
       "      <td>51</td>\n",
       "      <td>TX</td>\n",
       "      <td>135269</td>\n",
       "    </tr>\n",
       "    <tr>\n",
       "      <th>zip</th>\n",
       "      <td>1852394</td>\n",
       "      <td>985</td>\n",
       "      <td>82514</td>\n",
       "      <td>5116</td>\n",
       "    </tr>\n",
       "    <tr>\n",
       "      <th>job</th>\n",
       "      <td>1852394</td>\n",
       "      <td>497</td>\n",
       "      <td>Film/video editor</td>\n",
       "      <td>13898</td>\n",
       "    </tr>\n",
       "    <tr>\n",
       "      <th>transaction_number</th>\n",
       "      <td>1852394</td>\n",
       "      <td>1852394</td>\n",
       "      <td>0b242abb623afc578575680df30655b9</td>\n",
       "      <td>1</td>\n",
       "    </tr>\n",
       "    <tr>\n",
       "      <th>full_name</th>\n",
       "      <td>1852394</td>\n",
       "      <td>989</td>\n",
       "      <td>Scott Martin</td>\n",
       "      <td>6583</td>\n",
       "    </tr>\n",
       "    <tr>\n",
       "      <th>transaction_location</th>\n",
       "      <td>1852394</td>\n",
       "      <td>985</td>\n",
       "      <td>-108.8964, 43.0048</td>\n",
       "      <td>5116</td>\n",
       "    </tr>\n",
       "    <tr>\n",
       "      <th>merchant_location</th>\n",
       "      <td>1852394</td>\n",
       "      <td>1852394</td>\n",
       "      <td>-82.048315, 36.011293</td>\n",
       "      <td>1</td>\n",
       "    </tr>\n",
       "  </tbody>\n",
       "</table>\n",
       "</div>"
      ],
      "text/plain": [
       "                        count   unique                               top  \\\n",
       "credit_card_number    1852394      999                  6538441737335434   \n",
       "merchant              1852394      693                       Kilback LLC   \n",
       "category              1852394       14                     gas_transport   \n",
       "gender                1852394        2                                 F   \n",
       "street                1852394      999                   444 Robert Mews   \n",
       "city                  1852394      906                        Birmingham   \n",
       "state                 1852394       51                                TX   \n",
       "zip                   1852394      985                             82514   \n",
       "job                   1852394      497                 Film/video editor   \n",
       "transaction_number    1852394  1852394  0b242abb623afc578575680df30655b9   \n",
       "full_name             1852394      989                      Scott Martin   \n",
       "transaction_location  1852394      985                -108.8964, 43.0048   \n",
       "merchant_location     1852394  1852394             -82.048315, 36.011293   \n",
       "\n",
       "                         freq  \n",
       "credit_card_number       4392  \n",
       "merchant                 6262  \n",
       "category               188029  \n",
       "gender                1014749  \n",
       "street                   4392  \n",
       "city                     8040  \n",
       "state                  135269  \n",
       "zip                      5116  \n",
       "job                     13898  \n",
       "transaction_number          1  \n",
       "full_name                6583  \n",
       "transaction_location     5116  \n",
       "merchant_location           1  "
      ]
     },
     "execution_count": 51,
     "metadata": {},
     "output_type": "execute_result"
    }
   ],
   "source": [
    "# Statistical overview of categorical features\n",
    "df.describe(include=[\"object\"]).T"
   ]
  },
  {
   "cell_type": "markdown",
   "metadata": {},
   "source": [
    "**Findings**: According to the statistical table above about the categorical features, we have found that:\n",
    "\n",
    "- `credit_card_number`: There are 999 credit card holders in the dataset, performing an overal of nearly 1.9 Million Transactions. But the card holder names are only 989 which means that one person that can hold multiple cards.\n",
    "\n",
    "- `merchant`: There are 693 different merchants that the transactions are being sent to.\n",
    "\n",
    "- `gender`: There are Male and Female card holders, Female instances are higher than Male about 5%.\n",
    "\n",
    "- `job`: There are 497 unique jobs with Film/video editor as the most frequent one.\n",
    "\n",
    "- **Location**: There are total of 999 different streets, 906 cities, 51 states, 985 zips. \n",
    "\n",
    "    - The longitude and latitude of the transactions have 989 unique numbers."
   ]
  }
 ],
 "metadata": {
  "kernelspec": {
   "display_name": "base",
   "language": "python",
   "name": "python3"
  },
  "language_info": {
   "codemirror_mode": {
    "name": "ipython",
    "version": 3
   },
   "file_extension": ".py",
   "mimetype": "text/x-python",
   "name": "python",
   "nbconvert_exporter": "python",
   "pygments_lexer": "ipython3",
   "version": "3.12.7"
  }
 },
 "nbformat": 4,
 "nbformat_minor": 2
}
